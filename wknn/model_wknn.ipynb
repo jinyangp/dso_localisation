{
 "cells": [
  {
   "cell_type": "markdown",
   "id": "81dea971",
   "metadata": {},
   "source": [
    "## Summary of notebook:\n",
    "\n",
    "This notebook builts the Locality-Sensitive Hashing Weighted K-Nearest Neighbour (LSH-WKNN) algorithm to perform localisation. After the model was built, the model's effectiveness was then tested out on different datasets with optimal/non-optimal hyperparameters.\n",
    "\n",
    "Overview of the LSH-WKNN algorithm:\n",
    "\n",
    "<u>1. Offline Phase<u>\n",
    "- Dimension Reduction of fingerprint images (Reduce by taking average of each feature)\n",
    "- K-Means Clustering (Cluster the fingerprint images)\n",
    "- Generate hash table for each cluster (Utilise LSH algorithm to generate)\n",
    "- Generate processed fingerprint database\n",
    "\n",
    "<u>2. Online Phase<u>\n",
    "- Cluster prediction (Predict cluster using K-Means model)\n",
    "- Look up hash table (Calculate hash value and look up hash table)\n",
    "- Generate regression output by taking a weighted average of K Nearest Neighbours\n",
    "\n",
    "Datasets used in this notebook are:\n",
    "\n",
    "Trial 1: Augmented open-source dataset using Gaussian noise - [Link](#wknn_gaussian) <br>\n",
    "Files: augmented_features_10_ue1_v2_ds.npy, augmented_labels_10_ue1_v2_ds.npy\n",
    "\n",
    "Trial 2: Augmented open-source dataset using Barrel Rolling - [Link](#wknn_br) <br>\n",
    "Files: augmented_features_8_ue1_br_ds.npy, augmented_labels_8_ue1_br_ds.npy\n",
    "\n",
    "Trial 3: Raw NTU's MISO SNR40 dataset, 100 samples per RP - [Link](#wknn_raw_100samples_miso_snr40) <br>\n",
    "Files:  miso_snr40_raw_labels.csv, miso_snr40_raw_labels.npy, miso_snr40_raw_features.npy\n",
    "\n",
    "Trial 4: Raw NTU's MISO SNR40 dataset, 1 sample per RP - [Link](#wknn_raw_1sample_miso_snr40) <br>\n",
    "Files: miso_snr40_raw_labels.csv, miso_snr40_raw_labels.npy, miso_snr40_raw_features.npy\n",
    "\n",
    "Trial 5: Augmented NTU's MISO SNR40 dataset - [Link](#wknn_augmented_miso_snr40) <br>\n",
    "Files: miso_snr40_augmented_labels.csv, miso_snr40_augmented_labels.npy, miso_snr40_augmented_features.npy"
   ]
  },
  {
   "cell_type": "code",
   "execution_count": 1,
   "id": "e4cec473",
   "metadata": {},
   "outputs": [
    {
     "name": "stdout",
     "output_type": "stream",
     "text": [
      "PhysicalDevice(name='/physical_device:GPU:0', device_type='GPU')\n",
      "2.9.1\n"
     ]
    }
   ],
   "source": [
    "# Configure amd test GPU\n",
    "import tensorflow as tf\n",
    "from tensorflow.python.client import device_lib\n",
    "\n",
    "# Prevent automatic GPU memory pre-allocation\n",
    "gpus = tf.config.experimental.list_physical_devices('GPU')\n",
    "for gpu in gpus:\n",
    "    print(gpu)\n",
    "    tf.config.experimental.set_memory_growth(gpu, True)\n",
    "\n",
    "print(tf.__version__)\n",
    "# print(device_lib.list_local_devices())"
   ]
  },
  {
   "cell_type": "markdown",
   "id": "31b3f48e",
   "metadata": {},
   "source": [
    "## <a id='wknn_gaussian'>Trial 1: Augmented open-source dataset using Gaussian noise</a>"
   ]
  },
  {
   "cell_type": "code",
   "execution_count": 2,
   "id": "d41cc9f4",
   "metadata": {},
   "outputs": [
    {
     "name": "stdout",
     "output_type": "stream",
     "text": [
      "/home/jovyan/committed_git/wknn\n",
      "/home/jovyan/committed_git/datasets\n"
     ]
    }
   ],
   "source": [
    "# Extract dataset\n",
    "import os \n",
    "\n",
    "print(os.getcwd())\n",
    "os.chdir('../datasets')\n",
    "print(os.getcwd())"
   ]
  },
  {
   "cell_type": "code",
   "execution_count": 3,
   "id": "1eb953bf",
   "metadata": {},
   "outputs": [
    {
     "name": "stdout",
     "output_type": "stream",
     "text": [
      "Shape of features np array: (89628, 193, 16)\n",
      "Shape of labels np array: (89628,)\n"
     ]
    }
   ],
   "source": [
    "from sklearn.model_selection import train_test_split\n",
    "import numpy as np\n",
    "\n",
    "# Import dataset\n",
    "features = np.load('augmented_features_10_ue1_v2_ds.npy')\n",
    "labels = np.load('augmented_labels_10_ue1_v2_ds.npy')\n",
    "\n",
    "print(f'Shape of features np array: {features.shape}')\n",
    "print(f'Shape of labels np array: {labels.shape}')\n",
    "\n",
    "X = features\n",
    "y = labels\n",
    "\n",
    "# Split the dataset\n",
    "X_train, X_test, y_train, y_test = train_test_split(X, y, test_size=0.2, random_state=42, shuffle=True)"
   ]
  },
  {
   "cell_type": "markdown",
   "id": "1d2774c4",
   "metadata": {},
   "source": [
    "### Offline Phase:"
   ]
  },
  {
   "cell_type": "markdown",
   "id": "2c4b4f4c",
   "metadata": {},
   "source": [
    "#### Dimension Reduction"
   ]
  },
  {
   "cell_type": "code",
   "execution_count": 4,
   "id": "88554809",
   "metadata": {},
   "outputs": [
    {
     "name": "stdout",
     "output_type": "stream",
     "text": [
      "(71702, 16)\n",
      "(17926, 16)\n"
     ]
    }
   ],
   "source": [
    "# As data across different samples are taken at different time intervals, makes\n",
    "# sense to average the value out\n",
    "# Reduce each feature from shape of (193, 16) --> (1, 16)\n",
    "\n",
    "# Preprocess X_train and X_test => Reduce dimensions by averaging\n",
    "reduced_X_train = []\n",
    "reduced_X_test = []\n",
    "\n",
    "for feature in X_train:  \n",
    "    reduced_X_train.append(np.mean(feature, axis = 0))\n",
    "for feature in X_test:\n",
    "    reduced_X_test.append(np.mean(feature, axis = 0))\n",
    "    \n",
    "X_train = np.array(reduced_X_train)\n",
    "X_test = np.array(reduced_X_test)\n",
    "\n",
    "print(X_train.shape)\n",
    "print(X_test.shape)"
   ]
  },
  {
   "cell_type": "markdown",
   "id": "d40ef280",
   "metadata": {},
   "source": [
    "#### K-Means clustering"
   ]
  },
  {
   "cell_type": "code",
   "execution_count": 5,
   "id": "5d432d30",
   "metadata": {},
   "outputs": [],
   "source": [
    "from sklearn.cluster import KMeans\n",
    "from sklearn import metrics\n",
    "from scipy.spatial.distance import cdist\n",
    "import numpy as np\n",
    "import matplotlib.pyplot as plt"
   ]
  },
  {
   "cell_type": "code",
   "execution_count": 8,
   "id": "13d85384",
   "metadata": {},
   "outputs": [],
   "source": [
    "inertias, distortions = [], []\n",
    "inertias_mapping, distortions_mapping = {}, {}\n",
    "K = range(1, 20)\n",
    "\n",
    "for k in K:\n",
    "    \n",
    "    # Build and fit the model\n",
    "    kmeanModel = KMeans(n_clusters = k).fit(X_train)\n",
    "    kmeanModel.fit(X_train)\n",
    "    \n",
    "    distortions.append(sum(np.min(cdist(X_train, kmeanModel.cluster_centers_,\n",
    "                                        'euclidean'), axis=1)) / X_train.shape[0])\n",
    "    inertias.append(kmeanModel.inertia_)\n",
    " \n",
    "    inertias_mapping[k] = sum(np.min(cdist(X_train, kmeanModel.cluster_centers_,\n",
    "                                   'euclidean'), axis=1)) / X_train.shape[0]\n",
    "    distortions_mapping[k] = kmeanModel.inertia_"
   ]
  },
  {
   "cell_type": "markdown",
   "id": "3213870d",
   "metadata": {},
   "source": [
    "#### Metrics used:\n",
    "\n",
    "- Distortion: Average of the squared distances from the cluster centers of the respective clusters to each data point (Euclidean distance metric)\n",
    "\n",
    "- Inertia: Average sum of squared distances of samples to their closest cluster centre"
   ]
  },
  {
   "cell_type": "code",
   "execution_count": 180,
   "id": "1b6c24c7",
   "metadata": {},
   "outputs": [
    {
     "name": "stdout",
     "output_type": "stream",
     "text": [
      "No. of clusters: 1, inertias: 0.5363316960429995\n",
      "No. of clusters: 2, inertias: 0.4750941792684408\n",
      "No. of clusters: 3, inertias: 0.431973008199725\n",
      "No. of clusters: 4, inertias: 0.3997290023811501\n",
      "No. of clusters: 5, inertias: 0.36183796465559603\n",
      "No. of clusters: 6, inertias: 0.3323592064411866\n",
      "No. of clusters: 7, inertias: 0.319621414276987\n",
      "No. of clusters: 8, inertias: 0.3074309831664756\n",
      "No. of clusters: 9, inertias: 0.29658059947807663\n",
      "No. of clusters: 10, inertias: 0.2888429038733291\n",
      "No. of clusters: 11, inertias: 0.28129038602301154\n",
      "No. of clusters: 12, inertias: 0.2748599303863045\n",
      "No. of clusters: 13, inertias: 0.2689964138889303\n",
      "No. of clusters: 14, inertias: 0.2647799845824608\n",
      "No. of clusters: 15, inertias: 0.2598982673424333\n",
      "No. of clusters: 16, inertias: 0.25653214643578404\n",
      "No. of clusters: 17, inertias: 0.2519857851262393\n",
      "No. of clusters: 18, inertias: 0.24874113142911874\n",
      "No. of clusters: 19, inertias: 0.24562293141799563\n"
     ]
    }
   ],
   "source": [
    "for key,val in inertias_mapping.items():\n",
    "    print(f'No. of clusters: {key}, inertias: {val}')"
   ]
  },
  {
   "cell_type": "code",
   "execution_count": 181,
   "id": "484a49fd",
   "metadata": {},
   "outputs": [
    {
     "data": {
      "image/png": "[encoded data removed]",
      "text/plain": [
       "<Figure size 1440x720 with 1 Axes>"
      ]
     },
     "metadata": {
      "needs_background": "light"
     },
     "output_type": "display_data"
    }
   ],
   "source": [
    "plt.plot(K, distortions, 'bx-')\n",
    "plt.xlabel('Values of K')\n",
    "plt.ylabel('Distortion')\n",
    "plt.title('The Elbow Method using Inertia')\n",
    "plt.show()"
   ]
  },
  {
   "cell_type": "code",
   "execution_count": 182,
   "id": "900c8737",
   "metadata": {},
   "outputs": [
    {
     "name": "stdout",
     "output_type": "stream",
     "text": [
      "No. of clusters: 1, distortion: 21841.907168491467\n",
      "No. of clusters: 2, distortion: 17415.012126380363\n",
      "No. of clusters: 3, distortion: 14425.495470297068\n",
      "No. of clusters: 4, distortion: 12189.391213838757\n",
      "No. of clusters: 5, distortion: 10137.244002683117\n",
      "No. of clusters: 6, distortion: 8621.437757923864\n",
      "No. of clusters: 7, distortion: 7960.194419675813\n",
      "No. of clusters: 8, distortion: 7353.421935603191\n",
      "No. of clusters: 9, distortion: 6801.638848209186\n",
      "No. of clusters: 10, distortion: 6446.499240625197\n",
      "No. of clusters: 11, distortion: 6101.452523155159\n",
      "No. of clusters: 12, distortion: 5824.011766266433\n",
      "No. of clusters: 13, distortion: 5603.30090779632\n",
      "No. of clusters: 14, distortion: 5396.198959389618\n",
      "No. of clusters: 15, distortion: 5225.016058255846\n",
      "No. of clusters: 16, distortion: 5075.420523312527\n",
      "No. of clusters: 17, distortion: 4914.13716677106\n",
      "No. of clusters: 18, distortion: 4794.883652791822\n",
      "No. of clusters: 19, distortion: 4670.469500248675\n"
     ]
    }
   ],
   "source": [
    "for key,val in distortions_mapping.items():\n",
    "    print(f'No. of clusters: {key}, distortion: {val}')"
   ]
  },
  {
   "cell_type": "code",
   "execution_count": 183,
   "id": "cfc3f8e3",
   "metadata": {},
   "outputs": [
    {
     "data": {
      "image/png": "[encoded data removed]",
      "text/plain": [
       "<Figure size 1440x720 with 1 Axes>"
      ]
     },
     "metadata": {
      "needs_background": "light"
     },
     "output_type": "display_data"
    }
   ],
   "source": [
    "plt.plot(K, inertias, 'bx-')\n",
    "plt.xlabel('Values of K')\n",
    "plt.ylabel('Inertia')\n",
    "plt.title('The Elbow Method using Inertia')\n",
    "plt.show()"
   ]
  },
  {
   "cell_type": "markdown",
   "id": "fea0637a",
   "metadata": {},
   "source": [
    "Optimal no. of clusters = 6"
   ]
  },
  {
   "cell_type": "markdown",
   "id": "160836cc",
   "metadata": {},
   "source": [
    "#### Generate processed fingerprint database"
   ]
  },
  {
   "cell_type": "code",
   "execution_count": 6,
   "id": "e6da97af",
   "metadata": {},
   "outputs": [],
   "source": [
    "import h5py\n",
    "# Get dictionary of RP index and coordinates\n",
    "# Open HDF5 file and access the dataset\n",
    "filename = 'dataset_SNR10_outdoor.mat'\n",
    "hdf5_file = h5py.File(filename, 'r')\n",
    "\n",
    "features_dataset = hdf5_file['features']\n",
    "labels_dataset = hdf5_file['labels']['position']\n",
    "\n",
    "# Convert HDF5 dataset to NumPy array\n",
    "features = np.array(features_dataset)\n",
    "labels = np.array(labels_dataset)\n",
    "\n",
    "# Prepare features for dataset\n",
    "# Retrieve features from the first UE and transpose the individual matrix\n",
    "features_transposed = np.zeros((3876,193,16), dtype = np.float64)\n",
    "for i in range(len(features)):\n",
    "    features_transposed[i] = features[i][0].T\n",
    "\n",
    "# Prepare labels for dataset\n",
    "count = 0\n",
    "rp_dict = {}\n",
    "# For labels, have a shape of (1,) where that number represents the class of that coordinate\n",
    "\n",
    "for label in labels:\n",
    "    rp_dict[count] = label\n",
    "    count += 1\n",
    "\n",
    "# Close the HDF5 file\n",
    "hdf5_file.close()"
   ]
  },
  {
   "cell_type": "code",
   "execution_count": 7,
   "id": "a8b0ed0b",
   "metadata": {},
   "outputs": [
    {
     "name": "stdout",
     "output_type": "stream",
     "text": [
      "No. of unique clusters: [0 1 2 3 4 5]\n",
      "No. of fp clustered: 71702\n",
      "71702 {'coords_idx': 383, 'cluster_no': 2, 'fp': array([0.64390807, 0.26444111, 0.56497193, 0.58222285, 0.66000711,\n",
      "       0.29986503, 0.52431564, 0.61377072, 0.66395987, 0.35654856,\n",
      "       0.47202562, 0.64252936, 0.65919535, 0.41383729, 0.42154467,\n",
      "       0.65629   ])}\n"
     ]
    }
   ],
   "source": [
    "# Perform clustering using optimal number of clusters\n",
    "kmeans_model = KMeans(n_clusters = 6).fit(X_train)\n",
    "\n",
    "# Get the correct cluster for each of the RP\n",
    "label_arr = kmeans_model.labels_\n",
    "print(f'No. of unique clusters: {np.unique(label_arr)}')\n",
    "print(f'No. of fp clustered: {len(label_arr)}')\n",
    "\n",
    "# Create a database containing key-value of location vector, cluster no. and fingerprint\n",
    "processed_fp_db = []\n",
    "for i in range(len(X_train)):\n",
    "    \n",
    "    processed_fp = {}\n",
    "    processed_fp['coords_idx'] = y_train[i]\n",
    "    processed_fp['cluster_no'] = label_arr[i]\n",
    "    processed_fp['fp'] = X_train[i]\n",
    "    processed_fp_db.append(processed_fp)\n",
    "\n",
    "print(len(processed_fp_db), processed_fp_db[0])"
   ]
  },
  {
   "cell_type": "code",
   "execution_count": null,
   "id": "bd839874",
   "metadata": {},
   "outputs": [],
   "source": []
  },
  {
   "cell_type": "markdown",
   "id": "f689b6f9",
   "metadata": {},
   "source": [
    "#### Apply LSH algorithm for each of the clusters to hash fingerprints generated  and save the hash values in a data structure.\n",
    "\n",
    "- Components of LSH algorithm\n",
    "    - Stable distribution: Gaussian normal distribution with mean = 0 and variance = 1\n",
    "    - dimension, d: Dimensions of the fingerprints with reduced dimensions, with shape of (1,16)\n",
    "    - alpha, a: Vector of dimension d whose entry are chosen independently from the p-stable distribution.\n",
    "    - vector v: Vector of dimension d that represents our fingerprint\n",
    "    - r: Length of segment, by 'chopping' real line into eqi-distance segment of length r\n",
    "    - b: A random number in the range of (0,r)"
   ]
  },
  {
   "cell_type": "markdown",
   "id": "642a996a",
   "metadata": {},
   "source": [
    "### Data Visualisation"
   ]
  },
  {
   "cell_type": "code",
   "execution_count": 8,
   "id": "72a0cb0e",
   "metadata": {},
   "outputs": [],
   "source": [
    "alpha_vector = np.random.standard_normal(size = (1,16))"
   ]
  },
  {
   "cell_type": "code",
   "execution_count": 9,
   "id": "2837a2b3",
   "metadata": {},
   "outputs": [
    {
     "name": "stdout",
     "output_type": "stream",
     "text": [
      "Cluster 0\n",
      "Max: 2.003132667637134, Min: 0.15052124031277891, Avg: 1.0956390629454984, IQR: 0.30361624104705087, No. of bins: 66\n",
      "Cluster 1\n",
      "Max: 2.0808362625938726, Min: -0.0200867407365084, Avg: 0.9954807160746074, IQR: 0.41023914514067505, No. of bins: 65\n",
      "Cluster 2\n",
      "Max: 2.2695310914325026, Min: 0.7972819588031415, Avg: 1.5956215990635136, IQR: 0.2932231890323982, No. of bins: 62\n",
      "Cluster 3\n",
      "Max: 1.9797227010402108, Min: 0.9216150115557293, Avg: 1.470346225504191, IQR: 0.34547102638413585, No. of bins: 30\n",
      "Cluster 4\n",
      "Max: 1.8108564647816818, Min: 0.3622312660170001, Avg: 1.1328820375383633, IQR: 0.5162519858840293, No. of bins: 28\n",
      "Cluster 5\n",
      "Max: 2.6536010952978564, Min: 0.602040236276117, Avg: 1.6913448985880297, IQR: 0.440759520449441, No. of bins: 60\n"
     ]
    },
    {
     "data": {
      "image/png": "[encoded data removed]",
      "text/plain": [
       "<Figure size 1440x720 with 6 Axes>"
      ]
     },
     "metadata": {
      "needs_background": "light"
     },
     "output_type": "display_data"
    }
   ],
   "source": [
    "# Get stable distribution - Gaussian normal distribution with mean = 0 and variance = 1,\n",
    "# with dimension d => (1,16)\n",
    "import random\n",
    "from scipy.stats import norm\n",
    "\n",
    "# Perform dot product alpha_vector . vector v = scalar\n",
    "# scalar = np.dot(alpha_vector, reduced_dims_features[0])\n",
    "\n",
    "# For each cluster,\n",
    "cluster0_rps = [rp for rp in processed_fp_db if rp['cluster_no'] == 0]\n",
    "cluster1_rps = [rp for rp in processed_fp_db if rp['cluster_no'] == 1]\n",
    "cluster2_rps = [rp for rp in processed_fp_db if rp['cluster_no'] == 2]\n",
    "cluster3_rps = [rp for rp in processed_fp_db if rp['cluster_no'] == 3]\n",
    "cluster4_rps = [rp for rp in processed_fp_db if rp['cluster_no'] == 4]\n",
    "cluster5_rps = [rp for rp in processed_fp_db if rp['cluster_no'] == 5]\n",
    "\n",
    "plt.rcParams['figure.figsize'] = [20, 10]\n",
    "fig, axs = plt.subplots(3,2)\n",
    "\n",
    "for i in range(3):\n",
    "    for j in range(i,i + 2):\n",
    "\n",
    "        # Determine the elements from each cluster \n",
    "        print(f'Cluster {i + j}')\n",
    "        cluster_rps = [rp for rp in processed_fp_db if rp['cluster_no'] == (i + j)]\n",
    "        \n",
    "        # Get distribution of scalar quantities for each poimt\n",
    "        num_features = len(cluster_rps)\n",
    "        scalar_res = np.zeros(shape = (num_features, 1), dtype = np.float64)\n",
    "    \n",
    "        for k in range(num_features):\n",
    "            scalar_res[k] = np.dot(alpha_vector, cluster_rps[k]['fp'])\n",
    "        \n",
    "        (n, bins, patches) = axs[i][j - i].hist(scalar_res, bins = 'auto', density = True)\n",
    "#       print(f'Number of bins: {len(n)}, Data point count for each bin: {n}')\n",
    "\n",
    "        max_val = np.amax(scalar_res)\n",
    "        min_val = np.amin(scalar_res)\n",
    "        avg_val = np.mean(scalar_res)\n",
    "        q75, q25 = np.percentile(scalar_res, [75,25])\n",
    "        iqr = q75 - q25\n",
    "    \n",
    "        print(f'Max: {max_val}, Min: {min_val}, Avg: {avg_val}, IQR: {iqr}, No. of bins: {len(n)}')\n",
    "        x = np.linspace(min_val, max_val, 100)\n",
    "        axs[i][j - i].plot(x, norm.pdf(x, np.mean(scalar_res), np.std(scalar_res)))"
   ]
  },
  {
   "cell_type": "code",
   "execution_count": 10,
   "id": "5bf4f8f0",
   "metadata": {},
   "outputs": [],
   "source": [
    "# Generation of hash function\n",
    "# Let length r be (cluster max - cluster min) / 100\n",
    "# Stick to 100 hash values for now to make sure data points are evenly spread out, but not too little\n",
    "# points per hash value\n",
    "import math\n",
    "\n",
    "def get_minmax(cluster_rps):\n",
    "    \n",
    "    num_features = len(cluster_rps)\n",
    "    scalar_res = np.zeros(shape = (num_features, 1), dtype = np.float64)\n",
    "    \n",
    "    for k in range(num_features):\n",
    "        scalar_res[k] = np.dot(alpha_vector, cluster_rps[k]['fp'])\n",
    "    \n",
    "    return (np.amax(scalar_res), np.amin(scalar_res))\n",
    "\n",
    "def get_hash_values(cluster_rps):\n",
    "    \n",
    "    max_val, min_val = get_minmax(cluster_rps)\n",
    "    \n",
    "    # Declare parameters of hash function\n",
    "    num_segments = 3\n",
    "    r = (max_val - min_val) / num_segments\n",
    "    b = random.uniform(0, r)\n",
    "    \n",
    "    # print(r,b)\n",
    "    \n",
    "    # Make hash table\n",
    "    hash_table = {}\n",
    "    \n",
    "    # Generate hash values for each of the RP\n",
    "    for rp in cluster_rps:\n",
    "        \n",
    "        hash_value = math.floor((np.dot(alpha_vector, rp['fp']) + b) / r)\n",
    "        cur_vals = hash_table.get(hash_value, [])\n",
    "        cur_vals.append(rp['coords_idx'])\n",
    "        hash_table[hash_value] = cur_vals\n",
    "        \n",
    "    return r, b, hash_table"
   ]
  },
  {
   "cell_type": "code",
   "execution_count": 11,
   "id": "49bb0f0c",
   "metadata": {},
   "outputs": [
    {
     "name": "stdout",
     "output_type": "stream",
     "text": [
      "Cluster 0\n",
      "r: 0.6175371424414516, b: 0.13896036305966133\n",
      "Cluster 1\n",
      "r: 0.7003076677767938, b: 0.12479820455413494\n",
      "Cluster 2\n",
      "r: 0.49074971087645375, b: 0.24505364869922838\n",
      "Cluster 3\n",
      "r: 0.3527025631614938, b: 0.21301295538760262\n",
      "Cluster 4\n",
      "r: 0.4828750662548939, b: 0.29435236244753515\n",
      "Cluster 5\n",
      "r: 0.6838536196739131, b: 0.137611643381647\n"
     ]
    },
    {
     "data": {
      "image/png": "[encoded data removed]",
      "text/plain": [
       "<Figure size 1440x720 with 6 Axes>"
      ]
     },
     "metadata": {
      "needs_background": "light"
     },
     "output_type": "display_data"
    }
   ],
   "source": [
    "# For each cluster, visualise the spread of hashed values using a histogram\n",
    "plt.rcParams['figure.figsize'] = [20, 10]\n",
    "fig, axs = plt.subplots(3,2)\n",
    "\n",
    "for i in range(3):\n",
    "    for j in range(i,i + 2):\n",
    "\n",
    "        # Determine the elements from each cluster \n",
    "        print(f'Cluster {i + j}')\n",
    "        cluster_rps = [rp for rp in processed_fp_db if rp['cluster_no'] == (i + j)]\n",
    "        \n",
    "        # Get hash values for each cluster\n",
    "        r, b, hash_vals = get_hash_values(cluster_rps)\n",
    "        print(f'r: {r}, b: {b}')\n",
    "        \n",
    "        keys = []\n",
    "        num_vals = []\n",
    "        \n",
    "        for key, values in hash_vals.items():\n",
    "            keys.append(key)\n",
    "            num_vals.append(len(values))\n",
    "            \n",
    "        axs[i][j - i].bar(x = keys, height = num_vals)\n",
    "        axs[i][j - i].title.set_text(f'Cluster {i + j}')"
   ]
  },
  {
   "cell_type": "code",
   "execution_count": 12,
   "id": "929b7570",
   "metadata": {},
   "outputs": [],
   "source": [
    "# Get hash values for each cluster \n",
    "r0, b0, cluster0_hashvals = get_hash_values(cluster0_rps)\n",
    "r1, b1, cluster1_hashvals = get_hash_values(cluster1_rps)\n",
    "r2, b2, cluster2_hashvals = get_hash_values(cluster2_rps)\n",
    "r3, b3, cluster3_hashvals = get_hash_values(cluster3_rps)\n",
    "r4, b4, cluster4_hashvals = get_hash_values(cluster4_rps)\n",
    "r5, b5, cluster5_hashvals = get_hash_values(cluster5_rps)"
   ]
  },
  {
   "cell_type": "code",
   "execution_count": 13,
   "id": "d84edf71",
   "metadata": {},
   "outputs": [],
   "source": [
    "# Save details of each hash function into a dictionary\n",
    "clustered_rps = [cluster0_rps, cluster1_rps, cluster2_rps, cluster3_rps, cluster4_rps, cluster5_rps]\n",
    "clustered_rps = enumerate(clustered_rps)\n",
    "hash_dict = {}\n",
    "\n",
    "for index, cluster in clustered_rps:\n",
    "    r, b, hash_vals = get_hash_values(cluster)\n",
    "    hash_dict[index] = {'r': r, 'b': b, 'hashs': hash_vals}"
   ]
  },
  {
   "cell_type": "markdown",
   "id": "025a6413",
   "metadata": {},
   "source": [
    "### Online Phase:\n",
    "\n",
    "1. Take fingerprint at unknown location.\n",
    "2. Determine appropriate cluster for that fingerprint.\n",
    "3. Apply LSH algorithm to selected clustering and get top candidate RP for localisation (Apply hash function to unknown fingerprint and get top candidate RPs with the same hash values).\n",
    "4. Use Euclidean Distance criterion to calculate distance between each pair of points.\n",
    "5. Exploit WKNN algorithm to choose first K RPs with the smallest Dis to estimate final positioning."
   ]
  },
  {
   "cell_type": "code",
   "execution_count": 15,
   "id": "c7b645a2",
   "metadata": {},
   "outputs": [],
   "source": [
    "# Function to calculate Euclidean distance\n",
    "def get_ed(actual_rp, candidate_rp):\n",
    "    return math.dist(actual_rp, candidate_rp)\n",
    "\n",
    "# Exploit WKNN algorithm to choose first K RPs\n",
    "# Here, let k = 3, weight = 1 / get_ed(actual_rp, candidate_rp)\n",
    "# candidate_rps should be given in as a key which is the key in rp_dict which maps back to the\n",
    "# actual coordinates \n",
    "def wknn(actual_rp, candidate_rps, k = 3):\n",
    "    \n",
    "    distances = []\n",
    "    \n",
    "    # For every candidate point,\n",
    "    for index in candidate_rps:\n",
    "        \n",
    "        # Calculate the distance from each candidate point\n",
    "        coords = rp_dict[index]\n",
    "        dist = get_ed(rp_dict[actual_rp], coords)\n",
    "        \n",
    "        if dist == 0:\n",
    "            # Set an arbitrary large enough number\n",
    "            weight = 1e7\n",
    "        else:\n",
    "            weight = 1 / dist\n",
    "            \n",
    "        distances.append((index, coords, weight, dist))\n",
    "        \n",
    "    # Sort the array based on dist\n",
    "    sorted_distances = sorted(distances, key = lambda tup: tup[3])\n",
    "            \n",
    "    # Exploit WKNN to get positioning\n",
    "    # Get top candidates\n",
    "    top_k_candidates = sorted_distances[:k]\n",
    "    \n",
    "    # For checking purposes\n",
    "    # for index, _ , _ in top_k_candidates:\n",
    "    #    print(rp_dict[index])\n",
    "    \n",
    "    # Get predicted positioning using best candidates\n",
    "    # Get coordinates for all candidate positions\n",
    "    candidate_pos = []\n",
    "    weights = []\n",
    "    \n",
    "    for _, candidate, weight, _ in top_k_candidates:\n",
    "        candidate_pos.append(candidate)\n",
    "        weights.append(weight)\n",
    "    \n",
    "    # Take the weighted average of top k candidate positions to predict location\n",
    "    predicted_position = np.average(candidate_pos, weights = weights, axis = 0)\n",
    "    \n",
    "    return predicted_position"
   ]
  },
  {
   "cell_type": "code",
   "execution_count": 16,
   "id": "0ce30b7c",
   "metadata": {},
   "outputs": [
    {
     "name": "stdout",
     "output_type": "stream",
     "text": [
      "Predicted:\n",
      "[23.  46.  22.2]\n",
      "--\n",
      "Actual\n",
      "[23.  46.  22.2]\n"
     ]
    }
   ],
   "source": [
    "# Testing on one sample\n",
    "\n",
    "# Let's try on one test point for now\n",
    "# Use clustering to predict cluster of unknown fingerprint\n",
    "X_test_sample = X_test[0]\n",
    "y_test_sample = y_test[0]\n",
    "\n",
    "predicted_cluster = kmeans_model.predict([X_test_sample])[0]\n",
    "\n",
    "# Apply LSH hash function to get cluster for unknown fingerprint\n",
    "r, b, hash_vals = hash_dict[predicted_cluster]['r'], hash_dict[predicted_cluster]['b'], hash_dict[predicted_cluster]['hashs']\n",
    "\n",
    "# print(X_test_sample.shape)\n",
    "hashed_value = math.floor((np.dot(alpha_vector, X_test_sample) + b) / r)\n",
    "# print(hashed_value)\n",
    "# print(hash_vals[hashed_value])\n",
    "\n",
    "print('Predicted:')\n",
    "print(wknn(y_test_sample, hash_vals[hashed_value]))\n",
    "print('--')\n",
    "print('Actual')\n",
    "print(rp_dict[y_test_sample])"
   ]
  },
  {
   "cell_type": "code",
   "execution_count": 17,
   "id": "928c154d",
   "metadata": {},
   "outputs": [],
   "source": [
    "# This function takes in a fingerprint from an unknown location and tries to predict\n",
    "# the location\n",
    "from sklearn.metrics import accuracy_score\n",
    "from sklearn.metrics import confusion_matrix\n",
    "import math\n",
    "\n",
    "def get_closesthash(y, predicted_cluster):\n",
    "    \n",
    "    # For each of the hash value in this cluster,\n",
    "    r, b, hash_vals = hash_dict[predicted_cluster]['r'], hash_dict[predicted_cluster]['b'], hash_dict[predicted_cluster]['hashs']\n",
    "    actual_coords = rp_dict[y]\n",
    "    \n",
    "    min_avgdisterror = math.inf\n",
    "    min_hashval = None\n",
    "    \n",
    "    for hash_val in hash_vals.keys():\n",
    "        \n",
    "        # Get all neighbours with that hash value\n",
    "        neighbours = hash_vals[hash_val]\n",
    "        err_sum = 0\n",
    "        \n",
    "        # Find out the average distance error with neighbouring points with this hash value        \n",
    "        for neighbour in neighbours:\n",
    "            \n",
    "            # Calculate errors\n",
    "            neighbour_coords = rp_dict[neighbour]\n",
    "            err = get_ed(actual_coords, neighbour_coords) \n",
    "            err_sum += err\n",
    "            \n",
    "            # Calculate average\n",
    "            err_avg = err_sum / len(neighbours)\n",
    "            \n",
    "            # Update minimum\n",
    "            if err_avg < min_avgdisterror:\n",
    "                min_avgdisterror = err_avg\n",
    "                min_hashval = hash_val\n",
    "                \n",
    "        # Return the cluster with the least error\n",
    "        return min_hashval\n",
    "    \n",
    "# Note: Fingerprint is already in the reduced dimensions form\n",
    "def get_pred(x, y):\n",
    "    \n",
    "    # Step 1: Predict what cluster is this fp from\n",
    "    predicted_cluster = kmeans_model.predict([x])[0]\n",
    "    \n",
    "    # Step 2: Get the hash details for that predicted cluster\n",
    "    r, b, hash_vals = hash_dict[predicted_cluster]['r'], hash_dict[predicted_cluster]['b'], hash_dict[predicted_cluster]['hashs']\n",
    "    \n",
    "    # Step 3: Get the hash value for that unknown fp\n",
    "    hashed_value = math.floor((np.dot(alpha_vector, x) + b) / r)\n",
    " \n",
    "    # Step 4: Apply wknn algorithm on the the unknown fp\n",
    "    # if the derived hash value is not present in hashed values,\n",
    "    if hashed_value not in hash_vals.keys():\n",
    "        # Find out the average distance error from each of the other hashed\n",
    "        # value in this cluster\n",
    "        # Then, use wknn on points with this hash value in this cluster\n",
    "        closest_hashval = get_closesthash(y, predicted_cluster)\n",
    "        y_pred = wknn(y, hash_vals[closest_hashval])\n",
    "        \n",
    "    else: \n",
    "        y_pred = wknn(y, hash_vals[hashed_value])\n",
    "    \n",
    "    return y_pred"
   ]
  },
  {
   "cell_type": "code",
   "execution_count": 18,
   "id": "4f00aa8f",
   "metadata": {},
   "outputs": [],
   "source": [
    "# Iterate through the y_test dataset and get a prediction for each of the coordinate\n",
    "y_pred = []\n",
    "\n",
    "for i in range(len(y_test)):\n",
    "    \n",
    "    cur_test_sample = X_test[i]\n",
    "    cur_test_label = y_test[i]\n",
    "    pred = get_pred(cur_test_sample, cur_test_label)\n",
    "    y_pred.append(pred)"
   ]
  },
  {
   "cell_type": "code",
   "execution_count": 19,
   "id": "b7710db5",
   "metadata": {},
   "outputs": [
    {
     "name": "stdout",
     "output_type": "stream",
     "text": [
      "RMSE: 0.0608750096538175\n"
     ]
    }
   ],
   "source": [
    "def get_disterr(actual, predicted):\n",
    "\n",
    "    x_error = (actual[0] - predicted[0])**2\n",
    "    y_error = (actual[1] - predicted[1])**2\n",
    "    z_error = (actual[2] - predicted[2])**2\n",
    "    return x_error + y_error + z_error\n",
    "\n",
    "def get_errcdf(errors):\n",
    "    # Sort the array\n",
    "    sorted_data = np.sort(errors)\n",
    "\n",
    "    # Calculate cumulative probabilities\n",
    "    n = len(sorted_data)\n",
    "    cumulative_probs = np.arange(1, n + 1) / n\n",
    "\n",
    "    return (sorted_data, cumulative_probs)\n",
    "    \n",
    "err_sum = 0\n",
    "dist_errors = []\n",
    "\n",
    "for i in range(len(y_pred)):\n",
    "    \n",
    "    actual_coords = rp_dict[y_test[i]]\n",
    "    err = get_disterr(actual_coords, y_pred[i])\n",
    "    err_sum += err\n",
    "    dist_errors.append(np.sqrt(err))\n",
    "\n",
    "sorted_errors, cdf_vals = get_errcdf(dist_errors)\n",
    "\n",
    "print(f'RMSE: {np.sqrt((err_sum/len(y_pred)))}')"
   ]
  },
  {
   "cell_type": "code",
   "execution_count": 20,
   "id": "3dc0075b",
   "metadata": {},
   "outputs": [
    {
     "data": {
      "image/png": "[encoded data removed]",
      "text/plain": [
       "<Figure size 1440x720 with 1 Axes>"
      ]
     },
     "metadata": {
      "needs_background": "light"
     },
     "output_type": "display_data"
    }
   ],
   "source": [
    "import matplotlib.pyplot as plt\n",
    "\n",
    "plt.rcParams['figure.figsize'] = [20, 10]\n",
    "\n",
    "plt.plot(sorted_errors, cdf_vals, marker='o')\n",
    "plt.xlabel('Distance Error(m)')\n",
    "plt.ylabel('Cumulative Probability')\n",
    "plt.title('Cumulative Probability Function')\n",
    "plt.grid(True)\n",
    "plt.show()"
   ]
  },
  {
   "cell_type": "code",
   "execution_count": 21,
   "id": "2fd6f82d",
   "metadata": {},
   "outputs": [
    {
     "name": "stdout",
     "output_type": "stream",
     "text": [
      "[0.         0.         0.         ... 1.80575415 1.87082869 1.92349477]\n",
      "[5.57848935e-05 1.11569787e-04 1.67354680e-04 ... 9.99888430e-01\n",
      " 9.99944215e-01 1.00000000e+00]\n"
     ]
    }
   ],
   "source": [
    "# Save sorted values and cdf_values into a file\n",
    "# print(sorted_errors)\n",
    "# print(cdf_vals)\n",
    "\n",
    "wknn_sorted_errors = np.array(sorted_errors)\n",
    "wknn_cdf_vals = np.array(cdf_vals)\n",
    "\n",
    "np.save('wknn_sorted_errors.npy', wknn_sorted_errors)\n",
    "np.save('wknn_cdf_vals', wknn_cdf_vals)"
   ]
  },
  {
   "cell_type": "code",
   "execution_count": null,
   "id": "35d400e0",
   "metadata": {},
   "outputs": [],
   "source": []
  },
  {
   "cell_type": "markdown",
   "id": "2fa244fa",
   "metadata": {},
   "source": [
    "## <a id='wknn_br'>Trial 2: Augmented open-source dataset using Barrel Rolling</a>"
   ]
  },
  {
   "cell_type": "code",
   "execution_count": 11,
   "id": "25d62150",
   "metadata": {},
   "outputs": [],
   "source": [
    "# Configure amd test GPU\n",
    "import tensorflow as tf\n",
    "from tensorflow.python.client import device_lib\n",
    "import h5py\n",
    "from sklearn.model_selection import train_test_split\n",
    "import numpy as np\n",
    "import os\n",
    "\n",
    "from sklearn.cluster import KMeans\n",
    "from sklearn import metrics\n",
    "from scipy.spatial.distance import cdist\n",
    "import matplotlib.pyplot as plt"
   ]
  },
  {
   "cell_type": "code",
   "execution_count": 12,
   "id": "45039f0c",
   "metadata": {},
   "outputs": [
    {
     "name": "stdout",
     "output_type": "stream",
     "text": [
      "PhysicalDevice(name='/physical_device:GPU:0', device_type='GPU')\n",
      "2.9.1\n"
     ]
    }
   ],
   "source": [
    "# Prevent automatic GPU memory pre-allocation\n",
    "gpus = tf.config.experimental.list_physical_devices('GPU')\n",
    "for gpu in gpus:\n",
    "    print(gpu)\n",
    "    tf.config.experimental.set_memory_growth(gpu, True)\n",
    "\n",
    "print(tf.__version__)\n",
    "# print(device_lib.list_local_devices())"
   ]
  },
  {
   "cell_type": "code",
   "execution_count": 13,
   "id": "8b8203a7",
   "metadata": {},
   "outputs": [
    {
     "name": "stdout",
     "output_type": "stream",
     "text": [
      "/home/jovyan/committed_git/datasets\n",
      "/home/jovyan/committed_git/datasets\n"
     ]
    }
   ],
   "source": [
    "print(os.getcwd())\n",
    "os.chdir('../datasets')\n",
    "print(os.getcwd())"
   ]
  },
  {
   "cell_type": "code",
   "execution_count": 14,
   "id": "34d83a40",
   "metadata": {},
   "outputs": [],
   "source": [
    "# Get dictionary of RP index and coordinates\n",
    "# Open HDF5 file and access the dataset\n",
    "filename = 'dataset_SNR10_outdoor.mat'\n",
    "hdf5_file = h5py.File(filename, 'r')\n",
    "\n",
    "features_dataset = hdf5_file['features']\n",
    "labels_dataset = hdf5_file['labels']['position']\n",
    "\n",
    "# Convert HDF5 dataset to NumPy array\n",
    "features = np.array(features_dataset)\n",
    "labels = np.array(labels_dataset)\n",
    "\n",
    "# Prepare features for dataset\n",
    "# Retrieve features from the first UE and transpose the individual matrix\n",
    "features_transposed = np.zeros((3876,193,16), dtype = np.float64)\n",
    "for i in range(len(features)):\n",
    "    features_transposed[i] = features[i][0].T\n",
    "\n",
    "# Prepare labels for dataset\n",
    "count = 0\n",
    "rp_dict = {}\n",
    "# For labels, have a shape of (1,) where that number represents the class of that coordinate\n",
    "\n",
    "for label in labels:\n",
    "    rp_dict[count] = label\n",
    "    count += 1\n",
    "\n",
    "# Close the HDF5 file\n",
    "hdf5_file.close()"
   ]
  },
  {
   "cell_type": "code",
   "execution_count": 15,
   "id": "ea049f2d",
   "metadata": {},
   "outputs": [],
   "source": [
    "# from sklearn.model_selection import KFold\n",
    "from sklearn.model_selection import train_test_split\n",
    "\n",
    "features = np.load('augmented_features_8_ue1_br_ds.npy')\n",
    "labels = np.load('augmented_labels_8_ue1_br_ds.npy')\n",
    "X = features\n",
    "y = labels\n",
    "\n",
    "# random_state = 42 to always ensure same split of dataset\n",
    "X_trainval, X_test, y_trainval, y_test = train_test_split(X, y, test_size=0.2, random_state=42, shuffle=True)\n",
    "X_train, X_val, y_train, y_val = train_test_split(X_trainval, y_trainval, test_size = 0.125, random_state=42, shuffle = True)"
   ]
  },
  {
   "cell_type": "code",
   "execution_count": 34,
   "id": "9f2baee0",
   "metadata": {},
   "outputs": [
    {
     "name": "stdout",
     "output_type": "stream",
     "text": [
      "/home/jovyan/committed_git/datasets\n",
      "/home/jovyan/committed_git/wknn\n"
     ]
    }
   ],
   "source": [
    "print(os.getcwd())\n",
    "os.chdir('../wknn')\n",
    "print(os.getcwd())"
   ]
  },
  {
   "cell_type": "code",
   "execution_count": 16,
   "id": "68f1a76f",
   "metadata": {},
   "outputs": [
    {
     "name": "stdout",
     "output_type": "stream",
     "text": [
      "(73255, 16)\n",
      "(20931, 16)\n",
      "(10466, 16)\n"
     ]
    }
   ],
   "source": [
    "# As data across different samples are taken at different time intervals, makes\n",
    "# sense to average the value out\n",
    "# Reduce each feature from shape of (193, 16) --> (1, 16)\n",
    "\n",
    "# Preprocess X_train and X_test => Reduce dimensions by averaging\n",
    "reduced_X_train = []\n",
    "reduced_X_test = []\n",
    "reduced_X_val = []\n",
    "\n",
    "for feature in X_train:  \n",
    "    reduced_X_train.append(np.mean(feature, axis = 0))\n",
    "for feature in X_test:\n",
    "    reduced_X_test.append(np.mean(feature, axis = 0))\n",
    "for feature in X_val:\n",
    "    reduced_X_val.append(np.mean(feature, axis = 0))\n",
    "        \n",
    "X_train = np.array(reduced_X_train)\n",
    "X_test = np.array(reduced_X_test)\n",
    "X_val = np.array(reduced_X_val)\n",
    "\n",
    "print(X_train.shape)\n",
    "print(X_test.shape)\n",
    "print(X_val.shape)"
   ]
  },
  {
   "cell_type": "code",
   "execution_count": 17,
   "id": "d9daa66f",
   "metadata": {},
   "outputs": [
    {
     "name": "stdout",
     "output_type": "stream",
     "text": [
      "No. of unique clusters: [0 1 2 3 4 5]\n",
      "No. of fp clustered: 73255\n",
      "73255 {'coords_idx': 3428, 'cluster_no': 1, 'fp': array([0.42753515, 0.58585465, 0.59680975, 0.54486201, 0.34364687,\n",
      "       0.42548206, 0.56378531, 0.66340429, 0.2912068 , 0.42050308,\n",
      "       0.56391392, 0.58025323, 0.35012222, 0.32711443, 0.41182492,\n",
      "       0.56788063])}\n"
     ]
    }
   ],
   "source": [
    "# Perform clustering using optimal number of clusters\n",
    "kmeans_model = KMeans(n_clusters = 6).fit(X_train)\n",
    "\n",
    "# Get the correct cluster for each of the RP\n",
    "label_arr = kmeans_model.labels_\n",
    "print(f'No. of unique clusters: {np.unique(label_arr)}')\n",
    "print(f'No. of fp clustered: {len(label_arr)}')\n",
    "\n",
    "# Create a database containing key-value of location vector, cluster no. and fingerprint\n",
    "processed_fp_db = []\n",
    "for i in range(len(X_train)):\n",
    "    \n",
    "    processed_fp = {}\n",
    "    processed_fp['coords_idx'] = y_train[i]\n",
    "    processed_fp['cluster_no'] = label_arr[i]\n",
    "    processed_fp['fp'] = X_train[i]\n",
    "    processed_fp_db.append(processed_fp)\n",
    "\n",
    "print(len(processed_fp_db), processed_fp_db[0])"
   ]
  },
  {
   "cell_type": "code",
   "execution_count": 23,
   "id": "7e2b225f",
   "metadata": {},
   "outputs": [],
   "source": [
    "# Generation of hash function\n",
    "# Let length r be (cluster max - cluster min) / 100\n",
    "# Stick to 100 hash values for now to make sure data points are evenly spread out, but not too little\n",
    "# points per hash value\n",
    "import math\n",
    "import random\n",
    "\n",
    "def get_minmax(cluster_rps):\n",
    "    \n",
    "    num_features = len(cluster_rps)\n",
    "    scalar_res = np.zeros(shape = (num_features, 1), dtype = np.float64)\n",
    "    \n",
    "    for k in range(num_features):\n",
    "        scalar_res[k] = np.dot(alpha_vector, cluster_rps[k]['fp'])\n",
    "    \n",
    "    return (np.amax(scalar_res), np.amin(scalar_res))\n",
    "\n",
    "def get_hash_values(cluster_rps):\n",
    "    \n",
    "    max_val, min_val = get_minmax(cluster_rps)\n",
    "    \n",
    "    # Declare parameters of hash function\n",
    "    num_segments = 3\n",
    "    r = (max_val - min_val) / num_segments\n",
    "    b = random.uniform(0, r)\n",
    "    \n",
    "    # print(r,b)\n",
    "    \n",
    "    # Make hash table\n",
    "    hash_table = {}\n",
    "    \n",
    "    # Generate hash values for each of the RP\n",
    "    for rp in cluster_rps:\n",
    "        \n",
    "        hash_value = math.floor((np.dot(alpha_vector, rp['fp']) + b) / r)\n",
    "        cur_vals = hash_table.get(hash_value, [])\n",
    "        cur_vals.append(rp['coords_idx'])\n",
    "        hash_table[hash_value] = cur_vals\n",
    "        \n",
    "    return r, b, hash_table"
   ]
  },
  {
   "cell_type": "code",
   "execution_count": 24,
   "id": "20a2bf1e",
   "metadata": {},
   "outputs": [],
   "source": [
    "alpha_vector = np.random.standard_normal(size = (1,16))"
   ]
  },
  {
   "cell_type": "code",
   "execution_count": 25,
   "id": "89714680",
   "metadata": {},
   "outputs": [],
   "source": [
    "# Get hash values for each cluster \n",
    "# For each cluster,\n",
    "cluster0_rps = [rp for rp in processed_fp_db if rp['cluster_no'] == 0]\n",
    "cluster1_rps = [rp for rp in processed_fp_db if rp['cluster_no'] == 1]\n",
    "cluster2_rps = [rp for rp in processed_fp_db if rp['cluster_no'] == 2]\n",
    "cluster3_rps = [rp for rp in processed_fp_db if rp['cluster_no'] == 3]\n",
    "cluster4_rps = [rp for rp in processed_fp_db if rp['cluster_no'] == 4]\n",
    "cluster5_rps = [rp for rp in processed_fp_db if rp['cluster_no'] == 5]\n",
    "\n",
    "r0, b0, cluster0_hashvals = get_hash_values(cluster0_rps)\n",
    "r1, b1, cluster1_hashvals = get_hash_values(cluster1_rps)\n",
    "r2, b2, cluster2_hashvals = get_hash_values(cluster2_rps)\n",
    "r3, b3, cluster3_hashvals = get_hash_values(cluster3_rps)\n",
    "r4, b4, cluster4_hashvals = get_hash_values(cluster4_rps)\n",
    "r5, b5, cluster5_hashvals = get_hash_values(cluster5_rps)"
   ]
  },
  {
   "cell_type": "code",
   "execution_count": 26,
   "id": "00d465b1",
   "metadata": {},
   "outputs": [],
   "source": [
    "# Save details of each hash function into a dictionary\n",
    "clustered_rps = [cluster0_rps, cluster1_rps, cluster2_rps, cluster3_rps, cluster4_rps, cluster5_rps]\n",
    "clustered_rps = enumerate(clustered_rps)\n",
    "hash_dict = {}\n",
    "\n",
    "for index, cluster in clustered_rps:\n",
    "    r, b, hash_vals = get_hash_values(cluster)\n",
    "    hash_dict[index] = {'r': r, 'b': b, 'hashs': hash_vals}"
   ]
  },
  {
   "cell_type": "code",
   "execution_count": 27,
   "id": "f51102ee",
   "metadata": {},
   "outputs": [],
   "source": [
    "# Function to calculate Euclidean distance\n",
    "def get_ed(actual_rp, candidate_rp):\n",
    "    return math.dist(actual_rp, candidate_rp)\n",
    "\n",
    "# Exploit WKNN algorithm to choose first K RPs\n",
    "# Here, let k = 3, weight = 1 / get_ed(actual_rp, candidate_rp)\n",
    "# candidate_rps should be given in as a key which is the key in rp_dict which maps back to the\n",
    "# actual coordinates \n",
    "def wknn(actual_rp, candidate_rps, k = 3):\n",
    "    \n",
    "    distances = []\n",
    "    \n",
    "    # For every candidate point,\n",
    "    for index in candidate_rps:\n",
    "        \n",
    "        # Calculate the distance from each candidate point\n",
    "        coords = rp_dict[index]\n",
    "        dist = get_ed(rp_dict[actual_rp], coords)\n",
    "        \n",
    "        if dist == 0:\n",
    "            # Set an arbitrary large enough number\n",
    "            weight = 1e7\n",
    "        else:\n",
    "            weight = 1 / dist\n",
    "            \n",
    "        distances.append((index, coords, weight, dist))\n",
    "        \n",
    "    # Sort the array based on dist\n",
    "    sorted_distances = sorted(distances, key = lambda tup: tup[3])\n",
    "            \n",
    "    # Exploit WKNN to get positioning\n",
    "    # Get top candidates\n",
    "    top_k_candidates = sorted_distances[:k]\n",
    "    \n",
    "    # For checking purposes\n",
    "    # for index, _ , _ in top_k_candidates:\n",
    "    #    print(rp_dict[index])\n",
    "    \n",
    "    # Get predicted positioning using best candidates\n",
    "    # Get coordinates for all candidate positions\n",
    "    candidate_pos = []\n",
    "    weights = []\n",
    "    \n",
    "    for _, candidate, weight, _ in top_k_candidates:\n",
    "        candidate_pos.append(candidate)\n",
    "        weights.append(weight)\n",
    "    \n",
    "    # Take the weighted average of top k candidate positions to predict location\n",
    "    predicted_position = np.average(candidate_pos, weights = weights, axis = 0)\n",
    "    \n",
    "    return predicted_position"
   ]
  },
  {
   "cell_type": "code",
   "execution_count": 28,
   "id": "38e8eeed",
   "metadata": {},
   "outputs": [],
   "source": [
    "# This function takes in a fingerprint from an unknown location and tries to predict\n",
    "# the location\n",
    "from sklearn.metrics import accuracy_score\n",
    "from sklearn.metrics import confusion_matrix\n",
    "import math\n",
    "\n",
    "def get_closesthash(y, predicted_cluster):\n",
    "    \n",
    "    # For each of the hash value in this cluster,\n",
    "    r, b, hash_vals = hash_dict[predicted_cluster]['r'], hash_dict[predicted_cluster]['b'], hash_dict[predicted_cluster]['hashs']\n",
    "    actual_coords = rp_dict[y]\n",
    "    \n",
    "    min_avgdisterror = math.inf\n",
    "    min_hashval = None\n",
    "    \n",
    "    for hash_val in hash_vals.keys():\n",
    "        \n",
    "        # Get all neighbours with that hash value\n",
    "        neighbours = hash_vals[hash_val]\n",
    "        err_sum = 0\n",
    "        \n",
    "        # Find out the average distance error with neighbouring points with this hash value        \n",
    "        for neighbour in neighbours:\n",
    "            \n",
    "            # Calculate errors\n",
    "            neighbour_coords = rp_dict[neighbour]\n",
    "            err = get_ed(actual_coords, neighbour_coords) \n",
    "            err_sum += err\n",
    "            \n",
    "            # Calculate average\n",
    "            err_avg = err_sum / len(neighbours)\n",
    "            \n",
    "            # Update minimum\n",
    "            if err_avg < min_avgdisterror:\n",
    "                min_avgdisterror = err_avg\n",
    "                min_hashval = hash_val\n",
    "                \n",
    "        # Return the cluster with the least error\n",
    "        return min_hashval\n",
    "    \n",
    "# Note: Fingerprint is already in the reduced dimensions form\n",
    "def get_pred(x, y):\n",
    "    \n",
    "    # Step 1: Predict what cluster is this fp from\n",
    "    predicted_cluster = kmeans_model.predict([x])[0]\n",
    "    \n",
    "    # Step 2: Get the hash details for that predicted cluster\n",
    "    r, b, hash_vals = hash_dict[predicted_cluster]['r'], hash_dict[predicted_cluster]['b'], hash_dict[predicted_cluster]['hashs']\n",
    "    \n",
    "    # Step 3: Get the hash value for that unknown fp\n",
    "    hashed_value = math.floor((np.dot(alpha_vector, x) + b) / r)\n",
    " \n",
    "    # Step 4: Apply wknn algorithm on the the unknown fp\n",
    "    # if the derived hash value is not present in hashed values,\n",
    "    if hashed_value not in hash_vals.keys():\n",
    "        # Find out the average distance error from each of the other hashed\n",
    "        # value in this cluster\n",
    "        # Then, use wknn on points with this hash value in this cluster\n",
    "        closest_hashval = get_closesthash(y, predicted_cluster)\n",
    "        y_pred = wknn(y, hash_vals[closest_hashval])\n",
    "        \n",
    "    else: \n",
    "        y_pred = wknn(y, hash_vals[hashed_value])\n",
    "    \n",
    "    return y_pred"
   ]
  },
  {
   "cell_type": "code",
   "execution_count": 29,
   "id": "7f74367a",
   "metadata": {},
   "outputs": [],
   "source": [
    "# Iterate through the y_test dataset and get a prediction for each of the coordinate\n",
    "y_pred = []\n",
    "\n",
    "for i in range(len(y_test)):\n",
    "    \n",
    "    cur_test_sample = X_test[i]\n",
    "    cur_test_label = y_test[i]\n",
    "    pred = get_pred(cur_test_sample, cur_test_label)\n",
    "    y_pred.append(pred)"
   ]
  },
  {
   "cell_type": "code",
   "execution_count": 30,
   "id": "f79b09f0",
   "metadata": {},
   "outputs": [
    {
     "name": "stdout",
     "output_type": "stream",
     "text": [
      "RMSE: 5.985985493330193e-10\n"
     ]
    }
   ],
   "source": [
    "def get_disterr(actual, predicted):\n",
    "\n",
    "    x_error = (actual[0] - predicted[0])**2\n",
    "    y_error = (actual[1] - predicted[1])**2\n",
    "    z_error = (actual[2] - predicted[2])**2\n",
    "    return x_error + y_error + z_error\n",
    "\n",
    "def get_errcdf(errors):\n",
    "    # Sort the array\n",
    "    sorted_data = np.sort(errors)\n",
    "\n",
    "    # Calculate cumulative probabilities\n",
    "    n = len(sorted_data)\n",
    "    cumulative_probs = np.arange(1, n + 1) / n\n",
    "\n",
    "    return (sorted_data, cumulative_probs)\n",
    "    \n",
    "err_sum = 0\n",
    "dist_errors = []\n",
    "\n",
    "for i in range(len(y_pred)):\n",
    "    \n",
    "    actual_coords = rp_dict[y_test[i]]\n",
    "    err = get_disterr(actual_coords, y_pred[i])\n",
    "    err_sum += err\n",
    "    dist_errors.append(np.sqrt(err))\n",
    "\n",
    "sorted_errors, cdf_vals = get_errcdf(dist_errors)\n",
    "\n",
    "print(f'RMSE: {np.sqrt((err_sum/len(y_pred)))}')"
   ]
  },
  {
   "cell_type": "code",
   "execution_count": 31,
   "id": "227c0861",
   "metadata": {},
   "outputs": [
    {
     "data": {
      "image/png": "[encoded data removed]",
      "text/plain": [
       "<Figure size 1440x720 with 1 Axes>"
      ]
     },
     "metadata": {
      "needs_background": "light"
     },
     "output_type": "display_data"
    }
   ],
   "source": [
    "import matplotlib.pyplot as plt\n",
    "\n",
    "plt.rcParams['figure.figsize'] = [20, 10]\n",
    "\n",
    "plt.plot(sorted_errors, cdf_vals, marker='o')\n",
    "plt.xlabel('Distance Error(m)')\n",
    "plt.ylabel('Cumulative Probability')\n",
    "plt.title('Cumulative Probability Function')\n",
    "plt.grid(True)\n",
    "plt.show()"
   ]
  },
  {
   "cell_type": "code",
   "execution_count": 32,
   "id": "477bcd1c",
   "metadata": {},
   "outputs": [],
   "source": [
    "# Save sorted values and cdf_values into a file\n",
    "# print(sorted_errors)\n",
    "# print(cdf_vals)\n",
    "\n",
    "wknn_sorted_errors = np.array(sorted_errors)\n",
    "wknn_cdf_vals = np.array(cdf_vals)\n",
    "\n",
    "np.save('wknn_sorted_errors.npy', wknn_sorted_errors)\n",
    "np.save('wknn_cdf_vals', wknn_cdf_vals)"
   ]
  },
  {
   "cell_type": "code",
   "execution_count": null,
   "id": "a48afbff",
   "metadata": {},
   "outputs": [],
   "source": []
  },
  {
   "cell_type": "markdown",
   "id": "f5e30610",
   "metadata": {},
   "source": [
    "### Test of model's performance with non-optimal hyperparameters chosen\n",
    "\n",
    "- Current set of value that gives optimal result: K = 6, num_segments = 3\n",
    "- Repeat but with poorly chosen K (no. of clusters) and num_segment (no. of hash values possible) values"
   ]
  },
  {
   "cell_type": "code",
   "execution_count": 200,
   "id": "57e01cbf",
   "metadata": {},
   "outputs": [
    {
     "name": "stdout",
     "output_type": "stream",
     "text": [
      "/home/jovyan/committed_git/datasets\n",
      "/home/jovyan/committed_git/datasets\n"
     ]
    }
   ],
   "source": [
    "print(os.getcwd())\n",
    "os.chdir('../datasets')\n",
    "print(os.getcwd())"
   ]
  },
  {
   "cell_type": "code",
   "execution_count": 201,
   "id": "1e51f386",
   "metadata": {},
   "outputs": [],
   "source": [
    "# Get dictionary of RP index and coordinates\n",
    "# Open HDF5 file and access the dataset\n",
    "filename = 'dataset_SNR10_outdoor.mat'\n",
    "hdf5_file = h5py.File(filename, 'r')\n",
    "\n",
    "features_dataset = hdf5_file['features']\n",
    "labels_dataset = hdf5_file['labels']['position']\n",
    "\n",
    "# Convert HDF5 dataset to NumPy array\n",
    "features = np.array(features_dataset)\n",
    "labels = np.array(labels_dataset)\n",
    "\n",
    "# Prepare features for dataset\n",
    "# Retrieve features from the first UE and transpose the individual matrix\n",
    "features_transposed = np.zeros((3876,193,16), dtype = np.float64)\n",
    "for i in range(len(features)):\n",
    "    features_transposed[i] = features[i][0].T\n",
    "\n",
    "# Prepare labels for dataset\n",
    "count = 0\n",
    "rp_dict = {}\n",
    "# For labels, have a shape of (1,) where that number represents the class of that coordinate\n",
    "\n",
    "for label in labels:\n",
    "    rp_dict[count] = label\n",
    "    count += 1\n",
    "\n",
    "# Close the HDF5 file\n",
    "hdf5_file.close()"
   ]
  },
  {
   "cell_type": "code",
   "execution_count": 202,
   "id": "5d65edce",
   "metadata": {},
   "outputs": [
    {
     "name": "stdout",
     "output_type": "stream",
     "text": [
      "Shape of features np array: (89628, 193, 16)\n",
      "Shape of labels np array: (89628,)\n"
     ]
    }
   ],
   "source": [
    "# Import dataset\n",
    "features = np.load('augmented_features_10_ue1_v2_ds.npy')\n",
    "labels = np.load('augmented_labels_10_ue1_v2_ds.npy')\n",
    "\n",
    "print(f'Shape of features np array: {features.shape}')\n",
    "print(f'Shape of labels np array: {labels.shape}')\n",
    "\n",
    "X = features\n",
    "y = labels\n",
    "\n",
    "# Split the dataset\n",
    "X_train, X_test, y_train, y_test = train_test_split(X, y, test_size=0.2, random_state=42, shuffle=True)"
   ]
  },
  {
   "cell_type": "code",
   "execution_count": 203,
   "id": "a715f0d8",
   "metadata": {},
   "outputs": [
    {
     "name": "stdout",
     "output_type": "stream",
     "text": [
      "Shape of features np array: (89628, 193, 16)\n",
      "Shape of labels np array: (89628,)\n"
     ]
    }
   ],
   "source": [
    "from sklearn.model_selection import train_test_split\n",
    "import numpy as np\n",
    "\n",
    "# Import dataset\n",
    "features = np.load('augmented_features_10_ue1_v2_ds.npy')\n",
    "labels = np.load('augmented_labels_10_ue1_v2_ds.npy')\n",
    "\n",
    "print(f'Shape of features np array: {features.shape}')\n",
    "print(f'Shape of labels np array: {labels.shape}')\n",
    "\n",
    "X = features\n",
    "y = labels\n",
    "\n",
    "# Split the dataset\n",
    "X_train, X_test, y_train, y_test = train_test_split(X, y, test_size=0.2, random_state=42, shuffle=True)"
   ]
  },
  {
   "cell_type": "code",
   "execution_count": 204,
   "id": "cc1f7329",
   "metadata": {},
   "outputs": [
    {
     "name": "stdout",
     "output_type": "stream",
     "text": [
      "(71702, 16)\n",
      "(17926, 16)\n"
     ]
    }
   ],
   "source": [
    "# As data across different samples are taken at different time intervals, makes\n",
    "# sense to average the value out\n",
    "# Reduce each feature from shape of (193, 16) --> (1, 16)\n",
    "\n",
    "# Preprocess X_train and X_test => Reduce dimensions by averaging\n",
    "reduced_X_train = []\n",
    "reduced_X_test = []\n",
    "\n",
    "for feature in X_train:  \n",
    "    reduced_X_train.append(np.mean(feature, axis = 0))\n",
    "for feature in X_test:\n",
    "    reduced_X_test.append(np.mean(feature, axis = 0))\n",
    "    \n",
    "X_train = np.array(reduced_X_train)\n",
    "X_test = np.array(reduced_X_test)\n",
    "\n",
    "print(X_train.shape)\n",
    "print(X_test.shape)"
   ]
  },
  {
   "cell_type": "code",
   "execution_count": 149,
   "id": "62d67508",
   "metadata": {},
   "outputs": [],
   "source": [
    "from sklearn.cluster import KMeans\n",
    "from sklearn import metrics\n",
    "from scipy.spatial.distance import cdist\n",
    "import numpy as np\n",
    "import matplotlib.pyplot as plt"
   ]
  },
  {
   "cell_type": "code",
   "execution_count": 150,
   "id": "fad3e676",
   "metadata": {},
   "outputs": [
    {
     "name": "stdout",
     "output_type": "stream",
     "text": [
      "No. of unique clusters: [0 1 2 3 4 5]\n",
      "No. of fp clustered: 71702\n",
      "71702 {'coords_idx': 383, 'cluster_no': 3, 'fp': array([0.64390807, 0.26444111, 0.56497193, 0.58222285, 0.66000711,\n",
      "       0.29986503, 0.52431564, 0.61377072, 0.66395987, 0.35654856,\n",
      "       0.47202562, 0.64252936, 0.65919535, 0.41383729, 0.42154467,\n",
      "       0.65629   ])}\n"
     ]
    }
   ],
   "source": [
    "# Perform clustering using optimal number of clusters\n",
    "kmeans_model = KMeans(n_clusters = 6).fit(X_train)\n",
    "\n",
    "# Get the correct cluster for each of the RP\n",
    "label_arr = kmeans_model.labels_\n",
    "print(f'No. of unique clusters: {np.unique(label_arr)}')\n",
    "print(f'No. of fp clustered: {len(label_arr)}')\n",
    "\n",
    "# Create a database containing key-value of location vector, cluster no. and fingerprint\n",
    "processed_fp_db = []\n",
    "for i in range(len(X_train)):\n",
    "    \n",
    "    processed_fp = {}\n",
    "    processed_fp['coords_idx'] = y_train[i]\n",
    "    processed_fp['cluster_no'] = label_arr[i]\n",
    "    processed_fp['fp'] = X_train[i]\n",
    "    processed_fp_db.append(processed_fp)\n",
    "\n",
    "print(len(processed_fp_db), processed_fp_db[0])"
   ]
  },
  {
   "cell_type": "code",
   "execution_count": 151,
   "id": "c2d44ecd",
   "metadata": {},
   "outputs": [],
   "source": [
    "alpha_vector = np.random.standard_normal(size = (1,16))"
   ]
  },
  {
   "cell_type": "code",
   "execution_count": 152,
   "id": "f438b71e",
   "metadata": {},
   "outputs": [
    {
     "name": "stdout",
     "output_type": "stream",
     "text": [
      "Cluster 0\n",
      "Max: -0.15802643240061154, Min: -1.349374688939077, Avg: -0.8455646293320269, IQR: 0.2542993366324149, No. of bins: 61\n",
      "Cluster 1\n",
      "Max: -0.41510723135486916, Min: -1.490656763322165, Avg: -0.9231029609330204, IQR: 0.22926742018443025, No. of bins: 59\n",
      "Cluster 2\n",
      "Max: 0.7793886784027946, Min: -0.5611256167888753, Avg: 0.06160932061602885, IQR: 0.38174681760578, No. of bins: 35\n",
      "Cluster 3\n",
      "Max: -0.08552727502920576, Min: -1.6265861828682426, Avg: -0.9112436227832287, IQR: 0.34694361843200805, No. of bins: 55\n",
      "Cluster 4\n",
      "Max: -1.183277195755176, Min: -2.245685074011896, Avg: -1.723526256592355, IQR: 0.3019050998987727, No. of bins: 35\n",
      "Cluster 5\n",
      "Max: -0.14644146768512778, Min: -1.6933436205417411, Avg: -0.8862884930910049, IQR: 0.4032570175169974, No. of bins: 41\n"
     ]
    },
    {
     "data": {
      "image/png": "[encoded data removed]",
      "text/plain": [
       "<Figure size 1440x720 with 6 Axes>"
      ]
     },
     "metadata": {
      "needs_background": "light"
     },
     "output_type": "display_data"
    }
   ],
   "source": [
    "# Get stable distribution - Gaussian normal distribution with mean = 0 and variance = 1,\n",
    "# with dimension d => (1,16)\n",
    "import random\n",
    "from scipy.stats import norm\n",
    "\n",
    "# Perform dot product alpha_vector . vector v = scalar\n",
    "# scalar = np.dot(alpha_vector, reduced_dims_features[0])\n",
    "\n",
    "# For each cluster,\n",
    "cluster0_rps = [rp for rp in processed_fp_db if rp['cluster_no'] == 0]\n",
    "cluster1_rps = [rp for rp in processed_fp_db if rp['cluster_no'] == 1]\n",
    "cluster2_rps = [rp for rp in processed_fp_db if rp['cluster_no'] == 2]\n",
    "cluster3_rps = [rp for rp in processed_fp_db if rp['cluster_no'] == 3]\n",
    "cluster4_rps = [rp for rp in processed_fp_db if rp['cluster_no'] == 4]\n",
    "cluster5_rps = [rp for rp in processed_fp_db if rp['cluster_no'] == 5]\n",
    "\n",
    "plt.rcParams['figure.figsize'] = [20, 10]\n",
    "fig, axs = plt.subplots(3,2)\n",
    "\n",
    "for i in range(3):\n",
    "    for j in range(i,i + 2):\n",
    "\n",
    "        # Determine the elements from each cluster \n",
    "        print(f'Cluster {i + j}')\n",
    "        cluster_rps = [rp for rp in processed_fp_db if rp['cluster_no'] == (i + j)]\n",
    "        \n",
    "        # Get distribution of scalar quantities for each poimt\n",
    "        num_features = len(cluster_rps)\n",
    "        scalar_res = np.zeros(shape = (num_features, 1), dtype = np.float64)\n",
    "    \n",
    "        for k in range(num_features):\n",
    "            scalar_res[k] = np.dot(alpha_vector, cluster_rps[k]['fp'])\n",
    "        \n",
    "        (n, bins, patches) = axs[i][j - i].hist(scalar_res, bins = 'auto', density = True)\n",
    "#       print(f'Number of bins: {len(n)}, Data point count for each bin: {n}')\n",
    "\n",
    "        max_val = np.amax(scalar_res)\n",
    "        min_val = np.amin(scalar_res)\n",
    "        avg_val = np.mean(scalar_res)\n",
    "        q75, q25 = np.percentile(scalar_res, [75,25])\n",
    "        iqr = q75 - q25\n",
    "    \n",
    "        print(f'Max: {max_val}, Min: {min_val}, Avg: {avg_val}, IQR: {iqr}, No. of bins: {len(n)}')\n",
    "        x = np.linspace(min_val, max_val, 100)\n",
    "        axs[i][j - i].plot(x, norm.pdf(x, np.mean(scalar_res), np.std(scalar_res)))"
   ]
  },
  {
   "cell_type": "code",
   "execution_count": 153,
   "id": "7a2936a6",
   "metadata": {},
   "outputs": [],
   "source": [
    "# Generation of hash function\n",
    "# Let length r be (cluster max - cluster min) / 100\n",
    "# Stick to 100 hash values for now to make sure data points are evenly spread out, but not too little\n",
    "# points per hash value\n",
    "import math\n",
    "\n",
    "def get_minmax(cluster_rps):\n",
    "    \n",
    "    num_features = len(cluster_rps)\n",
    "    scalar_res = np.zeros(shape = (num_features, 1), dtype = np.float64)\n",
    "    \n",
    "    for k in range(num_features):\n",
    "        scalar_res[k] = np.dot(alpha_vector, cluster_rps[k]['fp'])\n",
    "    \n",
    "    return (np.amax(scalar_res), np.amin(scalar_res))\n",
    "\n",
    "def get_hash_values(cluster_rps):\n",
    "    \n",
    "    max_val, min_val = get_minmax(cluster_rps)\n",
    "    \n",
    "    # Declare parameters of hash function\n",
    "    num_segments = 25\n",
    "    r = (max_val - min_val) / num_segments\n",
    "    b = random.uniform(0, r)\n",
    "    \n",
    "    # print(r,b)\n",
    "    \n",
    "    # Make hash table\n",
    "    hash_table = {}\n",
    "    \n",
    "    # Generate hash values for each of the RP\n",
    "    for rp in cluster_rps:\n",
    "        \n",
    "        hash_value = math.floor((np.dot(alpha_vector, rp['fp']) + b) / r)\n",
    "        cur_vals = hash_table.get(hash_value, [])\n",
    "        cur_vals.append(rp['coords_idx'])\n",
    "        hash_table[hash_value] = cur_vals\n",
    "        \n",
    "    return r, b, hash_table"
   ]
  },
  {
   "cell_type": "code",
   "execution_count": 154,
   "id": "d034dc74",
   "metadata": {},
   "outputs": [
    {
     "name": "stdout",
     "output_type": "stream",
     "text": [
      "Cluster 0\n",
      "r: 0.047653930261538614, b: 0.03974047262492535\n",
      "Cluster 1\n",
      "r: 0.043021981278691834, b: 0.03651238073459537\n",
      "Cluster 2\n",
      "r: 0.0536205718076668, b: 0.029921124899781104\n",
      "Cluster 3\n",
      "r: 0.06164235631356148, b: 0.013176066768315668\n",
      "Cluster 4\n",
      "r: 0.0424963151302688, b: 0.017122936640304617\n",
      "Cluster 5\n",
      "r: 0.06187608611426453, b: 0.03413137477041388\n"
     ]
    },
    {
     "data": {
      "image/png": "[encoded data removed]",
      "text/plain": [
       "<Figure size 1440x720 with 6 Axes>"
      ]
     },
     "metadata": {
      "needs_background": "light"
     },
     "output_type": "display_data"
    }
   ],
   "source": [
    "# For each cluster, visualise the spread of hashed values using a histogram\n",
    "plt.rcParams['figure.figsize'] = [20, 10]\n",
    "fig, axs = plt.subplots(3,2)\n",
    "\n",
    "for i in range(3):\n",
    "    for j in range(i,i + 2):\n",
    "\n",
    "        # Determine the elements from each cluster \n",
    "        print(f'Cluster {i + j}')\n",
    "        cluster_rps = [rp for rp in processed_fp_db if rp['cluster_no'] == (i + j)]\n",
    "        \n",
    "        # Get hash values for each cluster\n",
    "        r, b, hash_vals = get_hash_values(cluster_rps)\n",
    "        print(f'r: {r}, b: {b}')\n",
    "        \n",
    "        keys = []\n",
    "        num_vals = []\n",
    "        \n",
    "        for key, values in hash_vals.items():\n",
    "            keys.append(key)\n",
    "            num_vals.append(len(values))\n",
    "            \n",
    "        axs[i][j - i].bar(x = keys, height = num_vals)\n",
    "        axs[i][j - i].title.set_text(f'Cluster {i + j}')"
   ]
  },
  {
   "cell_type": "code",
   "execution_count": 155,
   "id": "7ae19153",
   "metadata": {},
   "outputs": [],
   "source": [
    "# Get hash values for each cluster \n",
    "r0, b0, cluster0_hashvals = get_hash_values(cluster0_rps)\n",
    "r1, b1, cluster1_hashvals = get_hash_values(cluster1_rps)\n",
    "r2, b2, cluster2_hashvals = get_hash_values(cluster2_rps)\n",
    "r3, b3, cluster3_hashvals = get_hash_values(cluster3_rps)\n",
    "r4, b4, cluster4_hashvals = get_hash_values(cluster4_rps)\n",
    "r5, b5, cluster5_hashvals = get_hash_values(cluster5_rps)"
   ]
  },
  {
   "cell_type": "code",
   "execution_count": 156,
   "id": "d7c30e7f",
   "metadata": {},
   "outputs": [],
   "source": [
    "# Save details of each hash function into a dictionary\n",
    "clustered_rps = [cluster0_rps, cluster1_rps, cluster2_rps, cluster3_rps, cluster4_rps, cluster5_rps]\n",
    "clustered_rps = enumerate(clustered_rps)\n",
    "hash_dict = {}\n",
    "\n",
    "for index, cluster in clustered_rps:\n",
    "    r, b, hash_vals = get_hash_values(cluster)\n",
    "    hash_dict[index] = {'r': r, 'b': b, 'hashs': hash_vals}"
   ]
  },
  {
   "cell_type": "code",
   "execution_count": 157,
   "id": "3ffd8b57",
   "metadata": {},
   "outputs": [],
   "source": [
    "# Function to calculate Euclidean distance\n",
    "def get_ed(actual_rp, candidate_rp):\n",
    "    return math.dist(actual_rp, candidate_rp)\n",
    "\n",
    "# Exploit WKNN algorithm to choose first K RPs\n",
    "# Here, let k = 3, weight = 1 / get_ed(actual_rp, candidate_rp)\n",
    "# candidate_rps should be given in as a key which is the key in rp_dict which maps back to the\n",
    "# actual coordinates \n",
    "def wknn(actual_rp, candidate_rps, k = 3):\n",
    "    \n",
    "    distances = []\n",
    "    \n",
    "    # For every candidate point,\n",
    "    for index in candidate_rps:\n",
    "        \n",
    "        # Calculate the distance from each candidate point\n",
    "        coords = rp_dict[index]\n",
    "        dist = get_ed(rp_dict[actual_rp], coords)\n",
    "        \n",
    "        if dist == 0:\n",
    "            # Set an arbitrary large enough number\n",
    "            weight = 1e7\n",
    "        else:\n",
    "            weight = 1 / dist\n",
    "            \n",
    "        distances.append((index, coords, weight, dist))\n",
    "        \n",
    "    # Sort the array based on dist\n",
    "    sorted_distances = sorted(distances, key = lambda tup: tup[3])\n",
    "            \n",
    "    # Exploit WKNN to get positioning\n",
    "    # Get top candidates\n",
    "    top_k_candidates = sorted_distances[:k]\n",
    "    \n",
    "    # For checking purposes\n",
    "    # for index, _ , _ in top_k_candidates:\n",
    "    #    print(rp_dict[index])\n",
    "    \n",
    "    # Get predicted positioning using best candidates\n",
    "    # Get coordinates for all candidate positions\n",
    "    candidate_pos = []\n",
    "    weights = []\n",
    "    \n",
    "    for _, candidate, weight, _ in top_k_candidates:\n",
    "        candidate_pos.append(candidate)\n",
    "        weights.append(weight)\n",
    "    \n",
    "    # Take the weighted average of top k candidate positions to predict location\n",
    "    predicted_position = np.average(candidate_pos, weights = weights, axis = 0)\n",
    "    \n",
    "    return predicted_position"
   ]
  },
  {
   "cell_type": "code",
   "execution_count": 158,
   "id": "d526c71e",
   "metadata": {},
   "outputs": [],
   "source": [
    "# This function takes in a fingerprint from an unknown location and tries to predict\n",
    "# the location\n",
    "from sklearn.metrics import accuracy_score\n",
    "from sklearn.metrics import confusion_matrix\n",
    "import math\n",
    "\n",
    "def get_closesthash(y, predicted_cluster):\n",
    "    \n",
    "    # For each of the hash value in this cluster,\n",
    "    r, b, hash_vals = hash_dict[predicted_cluster]['r'], hash_dict[predicted_cluster]['b'], hash_dict[predicted_cluster]['hashs']\n",
    "    actual_coords = rp_dict[y]\n",
    "    \n",
    "    min_avgdisterror = math.inf\n",
    "    min_hashval = None\n",
    "    \n",
    "    for hash_val in hash_vals.keys():\n",
    "        \n",
    "        # Get all neighbours with that hash value\n",
    "        neighbours = hash_vals[hash_val]\n",
    "        err_sum = 0\n",
    "        \n",
    "        # Find out the average distance error with neighbouring points with this hash value        \n",
    "        for neighbour in neighbours:\n",
    "            \n",
    "            # Calculate errors\n",
    "            neighbour_coords = rp_dict[neighbour]\n",
    "            err = get_ed(actual_coords, neighbour_coords) \n",
    "            err_sum += err\n",
    "            \n",
    "            # Calculate average\n",
    "            err_avg = err_sum / len(neighbours)\n",
    "            \n",
    "            # Update minimum\n",
    "            if err_avg < min_avgdisterror:\n",
    "                min_avgdisterror = err_avg\n",
    "                min_hashval = hash_val\n",
    "                \n",
    "        # Return the cluster with the least error\n",
    "        return min_hashval\n",
    "    \n",
    "# Note: Fingerprint is already in the reduced dimensions form\n",
    "def get_pred(x, y):\n",
    "    \n",
    "    # Step 1: Predict what cluster is this fp from\n",
    "    predicted_cluster = kmeans_model.predict([x])[0]\n",
    "    \n",
    "    # Step 2: Get the hash details for that predicted cluster\n",
    "    r, b, hash_vals = hash_dict[predicted_cluster]['r'], hash_dict[predicted_cluster]['b'], hash_dict[predicted_cluster]['hashs']\n",
    "    \n",
    "    # Step 3: Get the hash value for that unknown fp\n",
    "    hashed_value = math.floor((np.dot(alpha_vector, x) + b) / r)\n",
    " \n",
    "    # Step 4: Apply wknn algorithm on the the unknown fp\n",
    "    # if the derived hash value is not present in hashed values,\n",
    "    if hashed_value not in hash_vals.keys():\n",
    "        # Find out the average distance error from each of the other hashed\n",
    "        # value in this cluster\n",
    "        # Then, use wknn on points with this hash value in this cluster\n",
    "        closest_hashval = get_closesthash(y, predicted_cluster)\n",
    "        y_pred = wknn(y, hash_vals[closest_hashval])\n",
    "        \n",
    "    else: \n",
    "        y_pred = wknn(y, hash_vals[hashed_value])\n",
    "    \n",
    "    return y_pred"
   ]
  },
  {
   "cell_type": "code",
   "execution_count": 159,
   "id": "901e9813",
   "metadata": {},
   "outputs": [],
   "source": [
    "# Iterate through the y_test dataset and get a prediction for each of the coordinate\n",
    "y_pred = []\n",
    "\n",
    "for i in range(len(y_test)):\n",
    "    \n",
    "    cur_test_sample = X_test[i]\n",
    "    cur_test_label = y_test[i]\n",
    "    pred = get_pred(cur_test_sample, cur_test_label)\n",
    "    y_pred.append(pred)"
   ]
  },
  {
   "cell_type": "code",
   "execution_count": 160,
   "id": "420e7e4b",
   "metadata": {},
   "outputs": [
    {
     "name": "stdout",
     "output_type": "stream",
     "text": [
      "RMSE: 0.29399160000781327\n"
     ]
    }
   ],
   "source": [
    "def get_disterr(actual, predicted):\n",
    "\n",
    "    x_error = (actual[0] - predicted[0])**2\n",
    "    y_error = (actual[1] - predicted[1])**2\n",
    "    z_error = (actual[2] - predicted[2])**2\n",
    "    return x_error + y_error + z_error\n",
    "\n",
    "def get_errcdf(errors):\n",
    "    # Sort the array\n",
    "    sorted_data = np.sort(errors)\n",
    "\n",
    "    # Calculate cumulative probabilities\n",
    "    n = len(sorted_data)\n",
    "    cumulative_probs = np.arange(1, n + 1) / n\n",
    "\n",
    "    return (sorted_data, cumulative_probs)\n",
    "    \n",
    "err_sum = 0\n",
    "dist_errors = []\n",
    "\n",
    "for i in range(len(y_pred)):\n",
    "    \n",
    "    actual_coords = rp_dict[y_test[i]]\n",
    "    err = get_disterr(actual_coords, y_pred[i])\n",
    "    err_sum += err\n",
    "    dist_errors.append(np.sqrt(err))\n",
    "\n",
    "sorted_errors, cdf_vals = get_errcdf(dist_errors)\n",
    "\n",
    "print(f'RMSE: {np.sqrt((err_sum/len(y_pred)))}')"
   ]
  },
  {
   "cell_type": "code",
   "execution_count": 161,
   "id": "b416583d",
   "metadata": {},
   "outputs": [
    {
     "data": {
      "image/png": "[encoded data removed]",
      "text/plain": [
       "<Figure size 1440x720 with 1 Axes>"
      ]
     },
     "metadata": {
      "needs_background": "light"
     },
     "output_type": "display_data"
    }
   ],
   "source": [
    "import matplotlib.pyplot as plt\n",
    "\n",
    "plt.rcParams['figure.figsize'] = [20, 10]\n",
    "\n",
    "plt.plot(sorted_errors, cdf_vals, marker='o')\n",
    "plt.xlabel('Distance Error(m)')\n",
    "plt.ylabel('Cumulative Probability')\n",
    "plt.title('Cumulative Probability Function')\n",
    "plt.grid(True)\n",
    "plt.show()"
   ]
  },
  {
   "cell_type": "code",
   "execution_count": null,
   "id": "2f338c26",
   "metadata": {},
   "outputs": [],
   "source": []
  },
  {
   "cell_type": "markdown",
   "id": "f17db9e6",
   "metadata": {},
   "source": [
    "## <a id='wknn_raw_100samples_miso_snr40'>Trial 3: Raw NTU's MISO SNR40 dataset, 100 samples per RP</a>"
   ]
  },
  {
   "cell_type": "code",
   "execution_count": 76,
   "id": "480ae0a8",
   "metadata": {},
   "outputs": [],
   "source": [
    "# Configure amd test GPU\n",
    "import tensorflow as tf\n",
    "from tensorflow.python.client import device_lib\n",
    "import h5py\n",
    "from sklearn.model_selection import train_test_split\n",
    "import numpy as np\n",
    "import os\n",
    "\n",
    "from sklearn.cluster import KMeans\n",
    "from sklearn import metrics\n",
    "from scipy.spatial.distance import cdist\n",
    "import matplotlib.pyplot as plt"
   ]
  },
  {
   "cell_type": "code",
   "execution_count": 77,
   "id": "167794bc",
   "metadata": {},
   "outputs": [
    {
     "name": "stdout",
     "output_type": "stream",
     "text": [
      "PhysicalDevice(name='/physical_device:GPU:0', device_type='GPU')\n",
      "2.9.1\n"
     ]
    }
   ],
   "source": [
    "# Prevent automatic GPU memory pre-allocation\n",
    "gpus = tf.config.experimental.list_physical_devices('GPU')\n",
    "for gpu in gpus:\n",
    "    print(gpu)\n",
    "    tf.config.experimental.set_memory_growth(gpu, True)\n",
    "\n",
    "print(tf.__version__)\n",
    "# print(device_lib.list_local_devices())"
   ]
  },
  {
   "cell_type": "code",
   "execution_count": 78,
   "id": "bc7052e0",
   "metadata": {},
   "outputs": [
    {
     "name": "stdout",
     "output_type": "stream",
     "text": [
      "/home/jovyan/committed_git/wknn\n",
      "/home/jovyan/committed_git/datasets/ntu_dataset\n"
     ]
    }
   ],
   "source": [
    "print(os.getcwd())\n",
    "os.chdir('../datasets/ntu_dataset')\n",
    "print(os.getcwd())"
   ]
  },
  {
   "cell_type": "code",
   "execution_count": 79,
   "id": "2203333e",
   "metadata": {},
   "outputs": [
    {
     "name": "stdout",
     "output_type": "stream",
     "text": [
      "Shape of array before normalisation: (277, 100, 14)\n",
      "Shape of array after normalisation: (277, 100, 14)\n"
     ]
    }
   ],
   "source": [
    "# Read in data from numpy array files\n",
    "features = np.load('miso_snr40_raw_features.npy')\n",
    "labels = np.load('miso_snr40_raw_labels.npy')\n",
    "\n",
    "# Normalise the features data obtained\n",
    "num_features = features.shape[2]\n",
    "num_rps = features.shape[0]\n",
    "\n",
    "normalised_features = np.zeros(features.shape, dtype = np.float32)\n",
    "\n",
    "for i in range(num_rps):\n",
    "    \n",
    "    for j in range(num_features):\n",
    "        \n",
    "        cur_feature_arr = features[:,:,j]\n",
    "        \n",
    "        min_val = np.amin(cur_feature_arr)\n",
    "        max_val = np.amax(cur_feature_arr)\n",
    "        \n",
    "        constant = False\n",
    "        if max_val - min_val == 0:\n",
    "            constant = True\n",
    "            \n",
    "        for k in range(len(features[i][:,j])):\n",
    "            \n",
    "            if constant:\n",
    "                normalised_features[i][k][j] = 0\n",
    "            else:\n",
    "                normalised_features[i][k][j] = (features[i][k][j] - min_val) / (max_val - min_val)\n",
    "\n",
    "print(f'Shape of array before normalisation: {features.shape}')\n",
    "print(f'Shape of array after normalisation: {normalised_features.shape}')\n",
    "\n",
    "# For labels, have a shape of (1,) where that number represents the class of that coordinate\n",
    "# Prepare labels for dataset\n",
    "class_labels = np.array([i for i in range(num_rps)])\n",
    "count = 0\n",
    "rp_dict = {}\n",
    "\n",
    "for label in labels:\n",
    "    rp_dict[count] = label\n",
    "    count += 1"
   ]
  },
  {
   "cell_type": "code",
   "execution_count": 80,
   "id": "1882db65",
   "metadata": {},
   "outputs": [],
   "source": [
    "# Train validation split the data\n",
    "from sklearn.model_selection import train_test_split\n",
    "\n",
    "X = normalised_features\n",
    "y = class_labels\n",
    "\n",
    "# random_state = 42 to always ensure same split of dataset\n",
    "X_trainval, X_test, y_trainval, y_test = train_test_split(X, y, test_size=0.2, random_state=42, shuffle=True)\n",
    "X_train, X_val, y_train, y_val = train_test_split(X_trainval, y_trainval, test_size = 0.125, random_state=42, shuffle = True)"
   ]
  },
  {
   "cell_type": "code",
   "execution_count": 81,
   "id": "c100ce5f",
   "metadata": {},
   "outputs": [
    {
     "name": "stdout",
     "output_type": "stream",
     "text": [
      "(277, 100, 14)\n",
      "(277, 2)\n",
      "(277,)\n"
     ]
    }
   ],
   "source": [
    "print(normalised_features.shape)\n",
    "print(labels.shape)\n",
    "print(class_labels.shape)"
   ]
  },
  {
   "cell_type": "code",
   "execution_count": 83,
   "id": "17483862",
   "metadata": {},
   "outputs": [
    {
     "name": "stdout",
     "output_type": "stream",
     "text": [
      "/home/jovyan/committed_git/datasets/ntu_dataset\n",
      "/home/jovyan/committed_git/wknn\n"
     ]
    }
   ],
   "source": [
    "print(os.getcwd())\n",
    "os.chdir('../../wknn')\n",
    "print(os.getcwd())"
   ]
  },
  {
   "cell_type": "code",
   "execution_count": 84,
   "id": "f5e9e5fb",
   "metadata": {},
   "outputs": [
    {
     "name": "stdout",
     "output_type": "stream",
     "text": [
      "(193, 14)\n",
      "(56, 14)\n",
      "(28, 14)\n"
     ]
    }
   ],
   "source": [
    "# As data across different samples are taken at different time intervals, makes\n",
    "# sense to average the value out\n",
    "# Reduce each feature from shape of (193, 16) --> (1, 16)\n",
    "\n",
    "# Preprocess X_train and X_test => Reduce dimensions by averaging\n",
    "reduced_X_train = []\n",
    "reduced_X_test = []\n",
    "reduced_X_val = []\n",
    "\n",
    "for feature in X_train:  \n",
    "    reduced_X_train.append(np.mean(feature, axis = 0))\n",
    "for feature in X_test:\n",
    "    reduced_X_test.append(np.mean(feature, axis = 0))\n",
    "for feature in X_val:\n",
    "    reduced_X_val.append(np.mean(feature, axis = 0))\n",
    "        \n",
    "X_train = np.array(reduced_X_train, dtype = np.float64)\n",
    "X_test = np.array(reduced_X_test, dtype = np.float64)\n",
    "X_val = np.array(reduced_X_val, dtype = np.float64)\n",
    "\n",
    "print(X_train.shape)\n",
    "print(X_test.shape)\n",
    "print(X_val.shape)"
   ]
  },
  {
   "cell_type": "code",
   "execution_count": 85,
   "id": "42de6b7a",
   "metadata": {},
   "outputs": [
    {
     "name": "stdout",
     "output_type": "stream",
     "text": [
      "No. of unique clusters: [0 1 2 3 4 5]\n",
      "No. of fp clustered: 193\n",
      "193 {'coords_idx': 109, 'cluster_no': 0, 'fp': array([0.93025118, 0.45756304, 0.91773355, 0.55789477, 0.90417558,\n",
      "       0.528005  , 0.89170265, 0.52377677, 0.93904877, 0.        ,\n",
      "       0.91267669, 0.19360419, 0.82714391, 0.99268991])}\n"
     ]
    }
   ],
   "source": [
    "# Perform clustering using optimal number of clusters\n",
    "kmeans_model = KMeans(n_clusters = 6).fit(X_train)\n",
    "\n",
    "# Get the correct cluster for each of the RP\n",
    "label_arr = kmeans_model.labels_\n",
    "print(f'No. of unique clusters: {np.unique(label_arr)}')\n",
    "print(f'No. of fp clustered: {len(label_arr)}')\n",
    "\n",
    "# Create a database containing key-value of location vector, cluster no. and fingerprint\n",
    "processed_fp_db = []\n",
    "for i in range(len(X_train)):\n",
    "    \n",
    "    processed_fp = {}\n",
    "    processed_fp['coords_idx'] = y_train[i]\n",
    "    processed_fp['cluster_no'] = label_arr[i]\n",
    "    processed_fp['fp'] = X_train[i]\n",
    "    processed_fp_db.append(processed_fp)\n",
    "\n",
    "print(len(processed_fp_db), processed_fp_db[0])"
   ]
  },
  {
   "cell_type": "code",
   "execution_count": 86,
   "id": "d79a8237",
   "metadata": {},
   "outputs": [],
   "source": [
    "# Generation of hash function\n",
    "# Let length r be (cluster max - cluster min) / 100\n",
    "# Stick to 100 hash values for now to make sure data points are evenly spread out, but not too little\n",
    "# points per hash value\n",
    "import math\n",
    "import random\n",
    "\n",
    "def get_minmax(cluster_rps):\n",
    "    \n",
    "    num_features = len(cluster_rps)\n",
    "    scalar_res = np.zeros(shape = (num_features, 1), dtype = np.float64)\n",
    "    \n",
    "    for k in range(num_features):\n",
    "        scalar_res[k] = np.dot(alpha_vector, cluster_rps[k]['fp'])\n",
    "    \n",
    "    return (np.amax(scalar_res), np.amin(scalar_res))\n",
    "\n",
    "def get_hash_values(cluster_rps):\n",
    "    \n",
    "    max_val, min_val = get_minmax(cluster_rps)\n",
    "    \n",
    "    # Declare parameters of hash function\n",
    "    num_segments = 3\n",
    "    r = (max_val - min_val) / num_segments\n",
    "    b = random.uniform(0, r)\n",
    "    \n",
    "    # print(r,b)\n",
    "    \n",
    "    # Make hash table\n",
    "    hash_table = {}\n",
    "    \n",
    "    # Generate hash values for each of the RP\n",
    "    for rp in cluster_rps:\n",
    "        \n",
    "        hash_value = math.floor((np.dot(alpha_vector, rp['fp']) + b) / r)\n",
    "        cur_vals = hash_table.get(hash_value, [])\n",
    "        cur_vals.append(rp['coords_idx'])\n",
    "        hash_table[hash_value] = cur_vals\n",
    "        \n",
    "    return r, b, hash_table"
   ]
  },
  {
   "cell_type": "code",
   "execution_count": 87,
   "id": "8632b8fa",
   "metadata": {},
   "outputs": [],
   "source": [
    "alpha_vector = np.random.standard_normal(size = (1,14))"
   ]
  },
  {
   "cell_type": "code",
   "execution_count": 88,
   "id": "39b49cb7",
   "metadata": {},
   "outputs": [],
   "source": [
    "# Get hash values for each cluster \n",
    "# For each cluster,\n",
    "cluster0_rps = [rp for rp in processed_fp_db if rp['cluster_no'] == 0]\n",
    "cluster1_rps = [rp for rp in processed_fp_db if rp['cluster_no'] == 1]\n",
    "cluster2_rps = [rp for rp in processed_fp_db if rp['cluster_no'] == 2]\n",
    "cluster3_rps = [rp for rp in processed_fp_db if rp['cluster_no'] == 3]\n",
    "cluster4_rps = [rp for rp in processed_fp_db if rp['cluster_no'] == 4]\n",
    "cluster5_rps = [rp for rp in processed_fp_db if rp['cluster_no'] == 5]\n",
    "\n",
    "r0, b0, cluster0_hashvals = get_hash_values(cluster0_rps)\n",
    "r1, b1, cluster1_hashvals = get_hash_values(cluster1_rps)\n",
    "r2, b2, cluster2_hashvals = get_hash_values(cluster2_rps)\n",
    "r3, b3, cluster3_hashvals = get_hash_values(cluster3_rps)\n",
    "r4, b4, cluster4_hashvals = get_hash_values(cluster4_rps)\n",
    "r5, b5, cluster5_hashvals = get_hash_values(cluster5_rps)"
   ]
  },
  {
   "cell_type": "code",
   "execution_count": 89,
   "id": "51dc4230",
   "metadata": {},
   "outputs": [],
   "source": [
    "# Save details of each hash function into a dictionary\n",
    "clustered_rps = [cluster0_rps, cluster1_rps, cluster2_rps, cluster3_rps, cluster4_rps, cluster5_rps]\n",
    "clustered_rps = enumerate(clustered_rps)\n",
    "hash_dict = {}\n",
    "\n",
    "for index, cluster in clustered_rps:\n",
    "    r, b, hash_vals = get_hash_values(cluster)\n",
    "    hash_dict[index] = {'r': r, 'b': b, 'hashs': hash_vals}"
   ]
  },
  {
   "cell_type": "code",
   "execution_count": 90,
   "id": "841cc8c0",
   "metadata": {},
   "outputs": [],
   "source": [
    "# Function to calculate Euclidean distance\n",
    "def get_ed(actual_rp, candidate_rp):\n",
    "    return math.dist(actual_rp, candidate_rp)\n",
    "\n",
    "# Exploit WKNN algorithm to choose first K RPs\n",
    "# Here, let k = 3, weight = 1 / get_ed(actual_rp, candidate_rp)\n",
    "# candidate_rps should be given in as a key which is the key in rp_dict which maps back to the\n",
    "# actual coordinates \n",
    "def wknn(actual_rp, candidate_rps, k = 3):\n",
    "    \n",
    "    distances = []\n",
    "    \n",
    "    # For every candidate point,\n",
    "    for index in candidate_rps:\n",
    "        \n",
    "        # Calculate the distance from each candidate point\n",
    "        coords = rp_dict[index]\n",
    "        dist = get_ed(rp_dict[actual_rp], coords)\n",
    "        \n",
    "        if dist == 0:\n",
    "            # Set an arbitrary large enough number\n",
    "            weight = 1e7\n",
    "        else:\n",
    "            weight = 1 / dist\n",
    "            \n",
    "        distances.append((index, coords, weight, dist))\n",
    "        \n",
    "    # Sort the array based on dist\n",
    "    sorted_distances = sorted(distances, key = lambda tup: tup[3])\n",
    "            \n",
    "    # Exploit WKNN to get positioning\n",
    "    # Get top candidates\n",
    "    top_k_candidates = sorted_distances[:k]\n",
    "    \n",
    "    # For checking purposes\n",
    "    # for index, _ , _ in top_k_candidates:\n",
    "    #    print(rp_dict[index])\n",
    "    \n",
    "    # Get predicted positioning using best candidates\n",
    "    # Get coordinates for all candidate positions\n",
    "    candidate_pos = []\n",
    "    weights = []\n",
    "    \n",
    "    for _, candidate, weight, _ in top_k_candidates:\n",
    "        candidate_pos.append(candidate)\n",
    "        weights.append(weight)\n",
    "    \n",
    "    # Take the weighted average of top k candidate positions to predict location\n",
    "    predicted_position = np.average(candidate_pos, weights = weights, axis = 0)\n",
    "    \n",
    "    return predicted_position"
   ]
  },
  {
   "cell_type": "code",
   "execution_count": 91,
   "id": "e7cfba56",
   "metadata": {},
   "outputs": [],
   "source": [
    "# This function takes in a fingerprint from an unknown location and tries to predict\n",
    "# the location\n",
    "from sklearn.metrics import accuracy_score\n",
    "from sklearn.metrics import confusion_matrix\n",
    "import math\n",
    "\n",
    "def get_closesthash(y, predicted_cluster):\n",
    "    \n",
    "    # For each of the hash value in this cluster,\n",
    "    r, b, hash_vals = hash_dict[predicted_cluster]['r'], hash_dict[predicted_cluster]['b'], hash_dict[predicted_cluster]['hashs']\n",
    "    actual_coords = rp_dict[y]\n",
    "    \n",
    "    min_avgdisterror = math.inf\n",
    "    min_hashval = None\n",
    "    \n",
    "    for hash_val in hash_vals.keys():\n",
    "        \n",
    "        # Get all neighbours with that hash value\n",
    "        neighbours = hash_vals[hash_val]\n",
    "        err_sum = 0\n",
    "        \n",
    "        # Find out the average distance error with neighbouring points with this hash value        \n",
    "        for neighbour in neighbours:\n",
    "            \n",
    "            # Calculate errors\n",
    "            neighbour_coords = rp_dict[neighbour]\n",
    "            err = get_ed(actual_coords, neighbour_coords) \n",
    "            err_sum += err\n",
    "            \n",
    "            # Calculate average\n",
    "            err_avg = err_sum / len(neighbours)\n",
    "            \n",
    "            # Update minimum\n",
    "            if err_avg < min_avgdisterror:\n",
    "                min_avgdisterror = err_avg\n",
    "                min_hashval = hash_val\n",
    "                \n",
    "        # Return the cluster with the least error\n",
    "        return min_hashval\n",
    "    \n",
    "# Note: Fingerprint is already in the reduced dimensions form\n",
    "def get_pred(x, y):\n",
    "    \n",
    "    # Step 1: Predict what cluster is this fp from\n",
    "    predicted_cluster = kmeans_model.predict([x])[0]\n",
    "    \n",
    "    # Step 2: Get the hash details for that predicted cluster\n",
    "    r, b, hash_vals = hash_dict[predicted_cluster]['r'], hash_dict[predicted_cluster]['b'], hash_dict[predicted_cluster]['hashs']\n",
    "    \n",
    "    # Step 3: Get the hash value for that unknown fp\n",
    "    hashed_value = math.floor((np.dot(alpha_vector, x) + b) / r)\n",
    " \n",
    "    # Step 4: Apply wknn algorithm on the the unknown fp\n",
    "    # if the derived hash value is not present in hashed values,\n",
    "    if hashed_value not in hash_vals.keys():\n",
    "        # Find out the average distance error from each of the other hashed\n",
    "        # value in this cluster\n",
    "        # Then, use wknn on points with this hash value in this cluster\n",
    "        closest_hashval = get_closesthash(y, predicted_cluster)\n",
    "        y_pred = wknn(y, hash_vals[closest_hashval])\n",
    "        \n",
    "    else: \n",
    "        y_pred = wknn(y, hash_vals[hashed_value])\n",
    "    \n",
    "    return y_pred"
   ]
  },
  {
   "cell_type": "code",
   "execution_count": 93,
   "id": "ad9995b6",
   "metadata": {},
   "outputs": [],
   "source": [
    "# Iterate through the y_test dataset and get a prediction for each of the coordinate\n",
    "y_pred = []\n",
    "\n",
    "for i in range(len(y_test)):\n",
    "    \n",
    "    cur_test_sample = X_test[i]\n",
    "    cur_test_label = y_test[i]\n",
    "    pred = get_pred(cur_test_sample, cur_test_label)\n",
    "    y_pred.append(pred)"
   ]
  },
  {
   "cell_type": "code",
   "execution_count": 94,
   "id": "61ccc451",
   "metadata": {},
   "outputs": [
    {
     "name": "stdout",
     "output_type": "stream",
     "text": [
      "RMSE: 92.34030302684496\n"
     ]
    }
   ],
   "source": [
    "def get_disterr(actual, predicted):\n",
    "\n",
    "    x_error = (actual[0] - predicted[0])**2\n",
    "    y_error = (actual[1] - predicted[1])**2\n",
    "\n",
    "    return x_error + y_error\n",
    "\n",
    "def get_errcdf(errors):\n",
    "    # Sort the array\n",
    "    sorted_data = np.sort(errors)\n",
    "\n",
    "    # Calculate cumulative probabilities\n",
    "    n = len(sorted_data)\n",
    "    cumulative_probs = np.arange(1, n + 1) / n\n",
    "\n",
    "    return (sorted_data, cumulative_probs)\n",
    "    \n",
    "err_sum = 0\n",
    "dist_errors = []\n",
    "\n",
    "for i in range(len(y_pred)):\n",
    "    \n",
    "    actual_coords = rp_dict[y_test[i]]\n",
    "    err = get_disterr(actual_coords, y_pred[i])\n",
    "    err_sum += err\n",
    "    dist_errors.append(np.sqrt(err))\n",
    "\n",
    "sorted_errors, cdf_vals = get_errcdf(dist_errors)\n",
    "\n",
    "print(f'RMSE: {np.sqrt((err_sum/len(y_pred)))}')"
   ]
  },
  {
   "cell_type": "code",
   "execution_count": 95,
   "id": "33ea7f4f",
   "metadata": {},
   "outputs": [
    {
     "data": {
      "image/png": "[encoded data removed]",
      "text/plain": [
       "<Figure size 1440x720 with 1 Axes>"
      ]
     },
     "metadata": {
      "needs_background": "light"
     },
     "output_type": "display_data"
    }
   ],
   "source": [
    "import matplotlib.pyplot as plt\n",
    "\n",
    "plt.rcParams['figure.figsize'] = [20, 10]\n",
    "\n",
    "plt.plot(sorted_errors, cdf_vals, marker='o')\n",
    "plt.xlabel('Distance Error(m)')\n",
    "plt.ylabel('Cumulative Probability')\n",
    "plt.title('Cumulative Probability Function')\n",
    "plt.grid(True)\n",
    "plt.show()"
   ]
  },
  {
   "cell_type": "code",
   "execution_count": null,
   "id": "fe2c7ce6",
   "metadata": {},
   "outputs": [],
   "source": []
  },
  {
   "cell_type": "markdown",
   "id": "00d6500b",
   "metadata": {},
   "source": [
    "## <a id='wknn_raw_1sample_miso_snr40'>Trial 4: Raw NTU's MISO SNR40 dataset, 1 sample per RP</a>"
   ]
  },
  {
   "cell_type": "code",
   "execution_count": 2,
   "id": "bfa7238d",
   "metadata": {},
   "outputs": [],
   "source": [
    "# Configure amd test GPU\n",
    "import tensorflow as tf\n",
    "from tensorflow.python.client import device_lib\n",
    "import h5py\n",
    "from sklearn.model_selection import train_test_split\n",
    "import numpy as np\n",
    "import os\n",
    "\n",
    "from sklearn.cluster import KMeans\n",
    "from sklearn import metrics\n",
    "from scipy.spatial.distance import cdist\n",
    "import matplotlib.pyplot as plt"
   ]
  },
  {
   "cell_type": "code",
   "execution_count": 3,
   "id": "22e127d6",
   "metadata": {},
   "outputs": [
    {
     "name": "stdout",
     "output_type": "stream",
     "text": [
      "/home/jovyan/committed_git/wknn\n",
      "/home/jovyan/committed_git/datasets/ntu_dataset\n"
     ]
    }
   ],
   "source": [
    "print(os.getcwd())\n",
    "os.chdir('../datasets/ntu_dataset')\n",
    "print(os.getcwd())"
   ]
  },
  {
   "cell_type": "code",
   "execution_count": 5,
   "id": "7a3d80aa",
   "metadata": {},
   "outputs": [
    {
     "name": "stdout",
     "output_type": "stream",
     "text": [
      "First samples of each RP:  (277, 14)\n"
     ]
    }
   ],
   "source": [
    "# Read in data from numpy array files\n",
    "features = np.load('miso_snr40_raw_features.npy')\n",
    "labels = np.load('miso_snr40_raw_labels.npy')\n",
    "\n",
    "# Normalise the features data obtained\n",
    "num_rps = features.shape[0]\n",
    "\n",
    "features = features[:,0,:]\n",
    "print(\"First samples of each RP: \", features.shape)\n",
    "\n",
    "# For labels, have a shape of (1,) where that number represents the class of that coordinate\n",
    "# Prepare labels for dataset\n",
    "class_labels = np.array([i for i in range(num_rps)])\n",
    "count = 0\n",
    "rp_dict = {}\n",
    "\n",
    "for label in labels:\n",
    "    rp_dict[count] = label\n",
    "    count += 1"
   ]
  },
  {
   "cell_type": "code",
   "execution_count": 6,
   "id": "8b7501bd",
   "metadata": {},
   "outputs": [],
   "source": [
    "# Train validation split the data\n",
    "from sklearn.model_selection import train_test_split\n",
    "\n",
    "X = features\n",
    "y = class_labels\n",
    "\n",
    "# random_state = 42 to always ensure same split of dataset\n",
    "X_trainval, X_test, y_trainval, y_test = train_test_split(X, y, test_size=0.2, random_state=42, shuffle=True)\n",
    "X_train, X_val, y_train, y_val = train_test_split(X_trainval, y_trainval, test_size = 0.125, random_state=42, shuffle = True)"
   ]
  },
  {
   "cell_type": "code",
   "execution_count": 8,
   "id": "aa02407a",
   "metadata": {},
   "outputs": [
    {
     "name": "stdout",
     "output_type": "stream",
     "text": [
      "(277, 14)\n",
      "(277, 2)\n",
      "(277,)\n"
     ]
    }
   ],
   "source": [
    "print(features.shape)\n",
    "print(labels.shape)\n",
    "print(class_labels.shape)"
   ]
  },
  {
   "cell_type": "code",
   "execution_count": 9,
   "id": "a1e35135",
   "metadata": {},
   "outputs": [
    {
     "name": "stdout",
     "output_type": "stream",
     "text": [
      "/home/jovyan/committed_git/datasets/ntu_dataset\n",
      "/home/jovyan/committed_git/wknn\n"
     ]
    }
   ],
   "source": [
    "print(os.getcwd())\n",
    "os.chdir('../../wknn')\n",
    "print(os.getcwd())"
   ]
  },
  {
   "cell_type": "code",
   "execution_count": 10,
   "id": "6f275bb7",
   "metadata": {},
   "outputs": [
    {
     "name": "stdout",
     "output_type": "stream",
     "text": [
      "No. of unique clusters: [0 1 2 3 4 5]\n",
      "No. of fp clustered: 193\n",
      "193 {'coords_idx': 109, 'cluster_no': 0, 'fp': array([-3.42659772e+01, -2.12086243e-07, -3.09198921e+01, -4.39969941e-07,\n",
      "       -4.90785871e+01,  1.38716400e-06, -4.93802471e+01,  1.98824513e-06,\n",
      "       -3.40431484e+01,  0.00000000e+00, -4.03280191e+01,  1.21244604e-06,\n",
      "       -5.70963372e+01,  6.68082431e-06])}\n"
     ]
    }
   ],
   "source": [
    "# Perform clustering using optimal number of clusters\n",
    "kmeans_model = KMeans(n_clusters = 6).fit(X_train)\n",
    "\n",
    "# Get the correct cluster for each of the RP\n",
    "label_arr = kmeans_model.labels_\n",
    "print(f'No. of unique clusters: {np.unique(label_arr)}')\n",
    "print(f'No. of fp clustered: {len(label_arr)}')\n",
    "\n",
    "# Create a database containing key-value of location vector, cluster no. and fingerprint\n",
    "processed_fp_db = []\n",
    "for i in range(len(X_train)):\n",
    "    \n",
    "    processed_fp = {}\n",
    "    processed_fp['coords_idx'] = y_train[i]\n",
    "    processed_fp['cluster_no'] = label_arr[i]\n",
    "    processed_fp['fp'] = X_train[i]\n",
    "    processed_fp_db.append(processed_fp)\n",
    "\n",
    "print(len(processed_fp_db), processed_fp_db[0])"
   ]
  },
  {
   "cell_type": "code",
   "execution_count": 11,
   "id": "7d209983",
   "metadata": {},
   "outputs": [],
   "source": [
    "# Generation of hash function\n",
    "# Let length r be (cluster max - cluster min) / 100\n",
    "# Stick to 100 hash values for now to make sure data points are evenly spread out, but not too little\n",
    "# points per hash value\n",
    "import math\n",
    "import random\n",
    "\n",
    "def get_minmax(cluster_rps):\n",
    "    \n",
    "    num_features = len(cluster_rps)\n",
    "    scalar_res = np.zeros(shape = (num_features, 1), dtype = np.float64)\n",
    "    \n",
    "    for k in range(num_features):\n",
    "        scalar_res[k] = np.dot(alpha_vector, cluster_rps[k]['fp'])\n",
    "    \n",
    "    return (np.amax(scalar_res), np.amin(scalar_res))\n",
    "\n",
    "def get_hash_values(cluster_rps):\n",
    "    \n",
    "    max_val, min_val = get_minmax(cluster_rps)\n",
    "    \n",
    "    # Declare parameters of hash function\n",
    "    num_segments = 3\n",
    "    r = (max_val - min_val) / num_segments\n",
    "    b = random.uniform(0, r)\n",
    "    \n",
    "    # print(r,b)\n",
    "    \n",
    "    # Make hash table\n",
    "    hash_table = {}\n",
    "    \n",
    "    # Generate hash values for each of the RP\n",
    "    for rp in cluster_rps:\n",
    "        \n",
    "        hash_value = math.floor((np.dot(alpha_vector, rp['fp']) + b) / r)\n",
    "        cur_vals = hash_table.get(hash_value, [])\n",
    "        cur_vals.append(rp['coords_idx'])\n",
    "        hash_table[hash_value] = cur_vals\n",
    "        \n",
    "    return r, b, hash_table"
   ]
  },
  {
   "cell_type": "code",
   "execution_count": 12,
   "id": "3bff917e",
   "metadata": {},
   "outputs": [],
   "source": [
    "alpha_vector = np.random.standard_normal(size = (1,14))"
   ]
  },
  {
   "cell_type": "code",
   "execution_count": 13,
   "id": "630d44db",
   "metadata": {},
   "outputs": [],
   "source": [
    "# Get hash values for each cluster \n",
    "# For each cluster,\n",
    "cluster0_rps = [rp for rp in processed_fp_db if rp['cluster_no'] == 0]\n",
    "cluster1_rps = [rp for rp in processed_fp_db if rp['cluster_no'] == 1]\n",
    "cluster2_rps = [rp for rp in processed_fp_db if rp['cluster_no'] == 2]\n",
    "cluster3_rps = [rp for rp in processed_fp_db if rp['cluster_no'] == 3]\n",
    "cluster4_rps = [rp for rp in processed_fp_db if rp['cluster_no'] == 4]\n",
    "cluster5_rps = [rp for rp in processed_fp_db if rp['cluster_no'] == 5]\n",
    "\n",
    "r0, b0, cluster0_hashvals = get_hash_values(cluster0_rps)\n",
    "r1, b1, cluster1_hashvals = get_hash_values(cluster1_rps)\n",
    "r2, b2, cluster2_hashvals = get_hash_values(cluster2_rps)\n",
    "r3, b3, cluster3_hashvals = get_hash_values(cluster3_rps)\n",
    "r4, b4, cluster4_hashvals = get_hash_values(cluster4_rps)\n",
    "r5, b5, cluster5_hashvals = get_hash_values(cluster5_rps)"
   ]
  },
  {
   "cell_type": "code",
   "execution_count": 14,
   "id": "ee0dfe09",
   "metadata": {},
   "outputs": [],
   "source": [
    "# Save details of each hash function into a dictionary\n",
    "clustered_rps = [cluster0_rps, cluster1_rps, cluster2_rps, cluster3_rps, cluster4_rps, cluster5_rps]\n",
    "clustered_rps = enumerate(clustered_rps)\n",
    "hash_dict = {}\n",
    "\n",
    "for index, cluster in clustered_rps:\n",
    "    r, b, hash_vals = get_hash_values(cluster)\n",
    "    hash_dict[index] = {'r': r, 'b': b, 'hashs': hash_vals}"
   ]
  },
  {
   "cell_type": "code",
   "execution_count": 15,
   "id": "7616b28f",
   "metadata": {},
   "outputs": [],
   "source": [
    "# Function to calculate Euclidean distance\n",
    "def get_ed(actual_rp, candidate_rp):\n",
    "    return math.dist(actual_rp, candidate_rp)\n",
    "\n",
    "# Exploit WKNN algorithm to choose first K RPs\n",
    "# Here, let k = 3, weight = 1 / get_ed(actual_rp, candidate_rp)\n",
    "# candidate_rps should be given in as a key which is the key in rp_dict which maps back to the\n",
    "# actual coordinates \n",
    "def wknn(actual_rp, candidate_rps, k = 3):\n",
    "    \n",
    "    distances = []\n",
    "    \n",
    "    # For every candidate point,\n",
    "    for index in candidate_rps:\n",
    "        \n",
    "        # Calculate the distance from each candidate point\n",
    "        coords = rp_dict[index]\n",
    "        dist = get_ed(rp_dict[actual_rp], coords)\n",
    "        \n",
    "        if dist == 0:\n",
    "            # Set an arbitrary large enough number\n",
    "            weight = 1e7\n",
    "        else:\n",
    "            weight = 1 / dist\n",
    "            \n",
    "        distances.append((index, coords, weight, dist))\n",
    "        \n",
    "    # Sort the array based on dist\n",
    "    sorted_distances = sorted(distances, key = lambda tup: tup[3])\n",
    "            \n",
    "    # Exploit WKNN to get positioning\n",
    "    # Get top candidates\n",
    "    top_k_candidates = sorted_distances[:k]\n",
    "    \n",
    "    # For checking purposes\n",
    "    # for index, _ , _ in top_k_candidates:\n",
    "    #    print(rp_dict[index])\n",
    "    \n",
    "    # Get predicted positioning using best candidates\n",
    "    # Get coordinates for all candidate positions\n",
    "    candidate_pos = []\n",
    "    weights = []\n",
    "    \n",
    "    for _, candidate, weight, _ in top_k_candidates:\n",
    "        candidate_pos.append(candidate)\n",
    "        weights.append(weight)\n",
    "    \n",
    "    # Take the weighted average of top k candidate positions to predict location\n",
    "    predicted_position = np.average(candidate_pos, weights = weights, axis = 0)\n",
    "    \n",
    "    return predicted_position"
   ]
  },
  {
   "cell_type": "code",
   "execution_count": 16,
   "id": "5882d402",
   "metadata": {},
   "outputs": [],
   "source": [
    "# This function takes in a fingerprint from an unknown location and tries to predict\n",
    "# the location\n",
    "from sklearn.metrics import accuracy_score\n",
    "from sklearn.metrics import confusion_matrix\n",
    "import math\n",
    "\n",
    "def get_closesthash(y, predicted_cluster):\n",
    "    \n",
    "    # For each of the hash value in this cluster,\n",
    "    r, b, hash_vals = hash_dict[predicted_cluster]['r'], hash_dict[predicted_cluster]['b'], hash_dict[predicted_cluster]['hashs']\n",
    "    actual_coords = rp_dict[y]\n",
    "    \n",
    "    min_avgdisterror = math.inf\n",
    "    min_hashval = None\n",
    "    \n",
    "    for hash_val in hash_vals.keys():\n",
    "        \n",
    "        # Get all neighbours with that hash value\n",
    "        neighbours = hash_vals[hash_val]\n",
    "        err_sum = 0\n",
    "        \n",
    "        # Find out the average distance error with neighbouring points with this hash value        \n",
    "        for neighbour in neighbours:\n",
    "            \n",
    "            # Calculate errors\n",
    "            neighbour_coords = rp_dict[neighbour]\n",
    "            err = get_ed(actual_coords, neighbour_coords) \n",
    "            err_sum += err\n",
    "            \n",
    "            # Calculate average\n",
    "            err_avg = err_sum / len(neighbours)\n",
    "            \n",
    "            # Update minimum\n",
    "            if err_avg < min_avgdisterror:\n",
    "                min_avgdisterror = err_avg\n",
    "                min_hashval = hash_val\n",
    "                \n",
    "        # Return the cluster with the least error\n",
    "        return min_hashval\n",
    "    \n",
    "# Note: Fingerprint is already in the reduced dimensions form\n",
    "def get_pred(x, y):\n",
    "    \n",
    "    # Step 1: Predict what cluster is this fp from\n",
    "    predicted_cluster = kmeans_model.predict([x])[0]\n",
    "    \n",
    "    # Step 2: Get the hash details for that predicted cluster\n",
    "    r, b, hash_vals = hash_dict[predicted_cluster]['r'], hash_dict[predicted_cluster]['b'], hash_dict[predicted_cluster]['hashs']\n",
    "    \n",
    "    # Step 3: Get the hash value for that unknown fp\n",
    "    hashed_value = math.floor((np.dot(alpha_vector, x) + b) / r)\n",
    " \n",
    "    # Step 4: Apply wknn algorithm on the the unknown fp\n",
    "    # if the derived hash value is not present in hashed values,\n",
    "    if hashed_value not in hash_vals.keys():\n",
    "        # Find out the average distance error from each of the other hashed\n",
    "        # value in this cluster\n",
    "        # Then, use wknn on points with this hash value in this cluster\n",
    "        closest_hashval = get_closesthash(y, predicted_cluster)\n",
    "        y_pred = wknn(y, hash_vals[closest_hashval])\n",
    "        \n",
    "    else: \n",
    "        y_pred = wknn(y, hash_vals[hashed_value])\n",
    "    \n",
    "    return y_pred"
   ]
  },
  {
   "cell_type": "code",
   "execution_count": 17,
   "id": "6649aa83",
   "metadata": {},
   "outputs": [],
   "source": [
    "# Iterate through the y_test dataset and get a prediction for each of the coordinate\n",
    "y_pred = []\n",
    "\n",
    "for i in range(len(y_test)):\n",
    "    \n",
    "    cur_test_sample = X_test[i]\n",
    "    cur_test_label = y_test[i]\n",
    "    pred = get_pred(cur_test_sample, cur_test_label)\n",
    "    y_pred.append(pred)"
   ]
  },
  {
   "cell_type": "code",
   "execution_count": 18,
   "id": "73ca3cda",
   "metadata": {},
   "outputs": [
    {
     "name": "stdout",
     "output_type": "stream",
     "text": [
      "RMSE: 85.5644935546854\n"
     ]
    }
   ],
   "source": [
    "def get_disterr(actual, predicted):\n",
    "\n",
    "    x_error = (actual[0] - predicted[0])**2\n",
    "    y_error = (actual[1] - predicted[1])**2\n",
    "\n",
    "    return x_error + y_error\n",
    "\n",
    "def get_errcdf(errors):\n",
    "    # Sort the array\n",
    "    sorted_data = np.sort(errors)\n",
    "\n",
    "    # Calculate cumulative probabilities\n",
    "    n = len(sorted_data)\n",
    "    cumulative_probs = np.arange(1, n + 1) / n\n",
    "\n",
    "    return (sorted_data, cumulative_probs)\n",
    "    \n",
    "err_sum = 0\n",
    "dist_errors = []\n",
    "\n",
    "for i in range(len(y_pred)):\n",
    "    \n",
    "    actual_coords = rp_dict[y_test[i]]\n",
    "    err = get_disterr(actual_coords, y_pred[i])\n",
    "    err_sum += err\n",
    "    dist_errors.append(np.sqrt(err))\n",
    "\n",
    "sorted_errors, cdf_vals = get_errcdf(dist_errors)\n",
    "\n",
    "print(f'RMSE: {np.sqrt((err_sum/len(y_pred)))}')"
   ]
  },
  {
   "cell_type": "code",
   "execution_count": 19,
   "id": "88758167",
   "metadata": {},
   "outputs": [
    {
     "data": {
      "image/png": "[encoded data removed]",
      "text/plain": [
       "<Figure size 1440x720 with 1 Axes>"
      ]
     },
     "metadata": {
      "needs_background": "light"
     },
     "output_type": "display_data"
    }
   ],
   "source": [
    "import matplotlib.pyplot as plt\n",
    "\n",
    "plt.rcParams['figure.figsize'] = [20, 10]\n",
    "\n",
    "plt.plot(sorted_errors, cdf_vals, marker='o')\n",
    "plt.xlabel('Distance Error(m)')\n",
    "plt.ylabel('Cumulative Probability')\n",
    "plt.title('Cumulative Probability Function')\n",
    "plt.grid(True)\n",
    "plt.show()"
   ]
  },
  {
   "cell_type": "code",
   "execution_count": null,
   "id": "bc9fc02e",
   "metadata": {},
   "outputs": [],
   "source": []
  },
  {
   "cell_type": "markdown",
   "id": "3c0e3d6f",
   "metadata": {},
   "source": [
    "## <a id='wknn_augmented_miso_snr40'>Trial 5: Augmented NTU's MISO SNR40 dataset</a>"
   ]
  },
  {
   "cell_type": "code",
   "execution_count": 23,
   "id": "ad6ee3da",
   "metadata": {},
   "outputs": [],
   "source": [
    "import tensorflow as tf\n",
    "from tensorflow.python.client import device_lib\n",
    "import h5py\n",
    "from sklearn.model_selection import train_test_split\n",
    "import numpy as np\n",
    "import os\n",
    "\n",
    "from sklearn.cluster import KMeans\n",
    "from sklearn import metrics\n",
    "from scipy.spatial.distance import cdist\n",
    "import matplotlib.pyplot as plt"
   ]
  },
  {
   "cell_type": "code",
   "execution_count": 24,
   "id": "3072d5d3",
   "metadata": {},
   "outputs": [
    {
     "name": "stdout",
     "output_type": "stream",
     "text": [
      "2.9.1\n"
     ]
    }
   ],
   "source": [
    "# Prevent automatic GPU memory pre-allocation\n",
    "gpus = tf.config.experimental.list_physical_devices('GPU')\n",
    "for gpu in gpus:\n",
    "    print(gpu)\n",
    "    tf.config.experimental.set_memory_growth(gpu, True)\n",
    "\n",
    "print(tf.__version__)\n",
    "# print(device_lib.list_local_devices())"
   ]
  },
  {
   "cell_type": "code",
   "execution_count": 25,
   "id": "c813b5aa",
   "metadata": {},
   "outputs": [
    {
     "name": "stdout",
     "output_type": "stream",
     "text": [
      "/home/jovyan/committed_git/wknn\n",
      "/home/jovyan/committed_git/datasets/ntu_dataset\n"
     ]
    }
   ],
   "source": [
    "print(os.getcwd())\n",
    "os.chdir('../datasets/ntu_dataset')\n",
    "print(os.getcwd())"
   ]
  },
  {
   "cell_type": "code",
   "execution_count": 26,
   "id": "67f50b4c",
   "metadata": {},
   "outputs": [
    {
     "name": "stdout",
     "output_type": "stream",
     "text": [
      "Shape of array before normalisation: (6770, 100, 14)\n",
      "Shape of array after normalisation: (6770, 100, 14)\n"
     ]
    }
   ],
   "source": [
    "# Read in data from numpy array files\n",
    "features = np.load('miso_snr40_augmented_features.npy')\n",
    "labels = np.load('miso_snr40_augmented_labels.npy')\n",
    "\n",
    "# Normalise the features data obtained\n",
    "num_features = features.shape[2]\n",
    "num_rps = labels.shape[0]\n",
    "\n",
    "normalised_features = np.zeros(features.shape, dtype = np.float32)\n",
    "\n",
    "for i in range(num_rps):\n",
    "    \n",
    "    for j in range(num_features):\n",
    "        \n",
    "        cur_feature_arr = features[:,:,j]\n",
    "        \n",
    "        min_val = np.amin(cur_feature_arr)\n",
    "        max_val = np.amax(cur_feature_arr)\n",
    "        \n",
    "        constant = False\n",
    "        if max_val - min_val == 0:\n",
    "            constant = True\n",
    "            \n",
    "        for k in range(len(features[i][:,j])):\n",
    "            \n",
    "            if constant:\n",
    "                normalised_features[i][k][j] = 0\n",
    "            else:\n",
    "                normalised_features[i][k][j] = (features[i][k][j] - min_val) / (max_val - min_val)\n",
    "\n",
    "print(f'Shape of array before normalisation: {features.shape}')\n",
    "print(f'Shape of array after normalisation: {normalised_features.shape}')\n",
    "\n",
    "# For labels, have a shape of (1,) where that number represents the class of that coordinate\n",
    "# Prepare labels for dataset\n",
    "count = 0\n",
    "rp_dict = {}\n",
    "\n",
    "for label in labels:\n",
    "    rp_dict[count] = label\n",
    "    count += 1\n",
    "    \n",
    "class_labels = np.array([i for i in range(num_rps)])\n",
    "class_labels = np.repeat(class_labels, 10, axis = 0)"
   ]
  },
  {
   "cell_type": "code",
   "execution_count": 27,
   "id": "42c9a025",
   "metadata": {},
   "outputs": [],
   "source": [
    "# Train validation split the data\n",
    "from sklearn.model_selection import train_test_split\n",
    "\n",
    "X = normalised_features\n",
    "y = class_labels\n",
    "\n",
    "# random_state = 42 to always ensure same split of dataset\n",
    "X_trainval, X_test, y_trainval, y_test = train_test_split(X, y, test_size=0.2, random_state=42, shuffle=True)\n",
    "X_train, X_val, y_train, y_val = train_test_split(X_trainval, y_trainval, test_size = 0.125, random_state=42, shuffle = True)"
   ]
  },
  {
   "cell_type": "code",
   "execution_count": 28,
   "id": "b38fd288",
   "metadata": {},
   "outputs": [
    {
     "name": "stdout",
     "output_type": "stream",
     "text": [
      "(6770, 100, 14)\n",
      "(677, 2)\n",
      "(6770,)\n"
     ]
    }
   ],
   "source": [
    "print(normalised_features.shape)\n",
    "print(labels.shape)\n",
    "print(class_labels.shape)"
   ]
  },
  {
   "cell_type": "code",
   "execution_count": 29,
   "id": "d716bf93",
   "metadata": {},
   "outputs": [],
   "source": [
    "# Train validation split the data\n",
    "from sklearn.model_selection import train_test_split\n",
    "\n",
    "X = normalised_features\n",
    "y = class_labels\n",
    "\n",
    "# random_state = 42 to always ensure same split of dataset\n",
    "X_trainval, X_test, y_trainval, y_test = train_test_split(X, y, test_size=0.2, random_state=42, shuffle=True)\n",
    "X_train, X_val, y_train, y_val = train_test_split(X_trainval, y_trainval, test_size = 0.125, random_state=42, shuffle = True)"
   ]
  },
  {
   "cell_type": "code",
   "execution_count": 30,
   "id": "ed41ee3f",
   "metadata": {},
   "outputs": [
    {
     "name": "stdout",
     "output_type": "stream",
     "text": [
      "/home/jovyan/committed_git/datasets/ntu_dataset\n",
      "/home/jovyan/committed_git/wknn\n"
     ]
    }
   ],
   "source": [
    "print(os.getcwd())\n",
    "os.chdir('../../wknn')\n",
    "print(os.getcwd())"
   ]
  },
  {
   "cell_type": "code",
   "execution_count": 31,
   "id": "08d0eb3a",
   "metadata": {},
   "outputs": [
    {
     "name": "stdout",
     "output_type": "stream",
     "text": [
      "(4739, 14)\n",
      "(1354, 14)\n",
      "(677, 14)\n"
     ]
    }
   ],
   "source": [
    "# As data across different samples are taken at different time intervals, makes\n",
    "# sense to average the value out\n",
    "# Reduce each feature from shape of (193, 16) --> (1, 16)\n",
    "\n",
    "# Preprocess X_train and X_test => Reduce dimensions by averaging\n",
    "reduced_X_train = []\n",
    "reduced_X_test = []\n",
    "reduced_X_val = []\n",
    "\n",
    "for feature in X_train:  \n",
    "    reduced_X_train.append(np.mean(feature, axis = 0))\n",
    "for feature in X_test:\n",
    "    reduced_X_test.append(np.mean(feature, axis = 0))\n",
    "for feature in X_val:\n",
    "    reduced_X_val.append(np.mean(feature, axis = 0))\n",
    "        \n",
    "X_train = np.array(reduced_X_train, dtype = np.float64)\n",
    "X_test = np.array(reduced_X_test, dtype = np.float64)\n",
    "X_val = np.array(reduced_X_val, dtype = np.float64)\n",
    "\n",
    "print(X_train.shape)\n",
    "print(X_test.shape)\n",
    "print(X_val.shape)"
   ]
  },
  {
   "cell_type": "code",
   "execution_count": 32,
   "id": "c00f5c6b",
   "metadata": {},
   "outputs": [
    {
     "name": "stdout",
     "output_type": "stream",
     "text": [
      "No. of unique clusters: [0 1 2 3 4 5]\n",
      "No. of fp clustered: 4739\n",
      "4739 {'coords_idx': 501, 'cluster_no': 0, 'fp': array([0., 0., 0., 0., 0., 0., 0., 0., 0., 0., 0., 0., 0., 0.])}\n"
     ]
    }
   ],
   "source": [
    "# Perform clustering using optimal number of clusters\n",
    "kmeans_model = KMeans(n_clusters = 6).fit(X_train)\n",
    "\n",
    "# Get the correct cluster for each of the RP\n",
    "label_arr = kmeans_model.labels_\n",
    "print(f'No. of unique clusters: {np.unique(label_arr)}')\n",
    "print(f'No. of fp clustered: {len(label_arr)}')\n",
    "\n",
    "# Create a database containing key-value of location vector, cluster no. and fingerprint\n",
    "processed_fp_db = []\n",
    "for i in range(len(X_train)):\n",
    "    \n",
    "    processed_fp = {}\n",
    "    processed_fp['coords_idx'] = y_train[i]\n",
    "    processed_fp['cluster_no'] = label_arr[i]\n",
    "    processed_fp['fp'] = X_train[i]\n",
    "    processed_fp_db.append(processed_fp)\n",
    "\n",
    "print(len(processed_fp_db), processed_fp_db[0])"
   ]
  },
  {
   "cell_type": "code",
   "execution_count": 39,
   "id": "efe885e0",
   "metadata": {},
   "outputs": [],
   "source": [
    "# Generation of hash function\n",
    "# Let length r be (cluster max - cluster min) / 100\n",
    "# Stick to 100 hash values for now to make sure data points are evenly spread out, but not too little\n",
    "# points per hash value\n",
    "import math\n",
    "import random\n",
    "\n",
    "def get_minmax(cluster_rps):\n",
    "    \n",
    "    num_features = len(cluster_rps)\n",
    "    scalar_res = np.zeros(shape = (num_features, 1), dtype = np.float64)\n",
    "    \n",
    "    for k in range(num_features):\n",
    "        scalar_res[k] = np.dot(alpha_vector, cluster_rps[k]['fp'])\n",
    "    \n",
    "    return (np.amax(scalar_res), np.amin(scalar_res))\n",
    "\n",
    "def get_hash_values(cluster_rps):\n",
    "    \n",
    "    max_val, min_val = get_minmax(cluster_rps)\n",
    "    \n",
    "    # Declare parameters of hash function\n",
    "    num_segments = 3\n",
    "    r = (max_val - min_val) / num_segments\n",
    "    b = random.uniform(0, r)\n",
    "    \n",
    "    # print(r,b)\n",
    "    \n",
    "    # Make hash table\n",
    "    hash_table = {}\n",
    "    \n",
    "    # Generate hash values for each of the RP\n",
    "    for rp in cluster_rps:\n",
    "        \n",
    "        if r == 0:\n",
    "            hash_value = 0.\n",
    "        else:\n",
    "            hash_value = math.floor((np.dot(alpha_vector, rp['fp']) + b) / r)\n",
    "        cur_vals = hash_table.get(hash_value, [])\n",
    "        cur_vals.append(rp['coords_idx'])\n",
    "        hash_table[hash_value] = cur_vals\n",
    "        \n",
    "    return r, b, hash_table"
   ]
  },
  {
   "cell_type": "code",
   "execution_count": 40,
   "id": "ca123f9d",
   "metadata": {},
   "outputs": [],
   "source": [
    "alpha_vector = np.random.standard_normal(size = (1,14))"
   ]
  },
  {
   "cell_type": "code",
   "execution_count": 41,
   "id": "1473362a",
   "metadata": {},
   "outputs": [],
   "source": [
    "# Get hash values for each cluster \n",
    "# For each cluster,\n",
    "cluster0_rps = [rp for rp in processed_fp_db if rp['cluster_no'] == 0]\n",
    "cluster1_rps = [rp for rp in processed_fp_db if rp['cluster_no'] == 1]\n",
    "cluster2_rps = [rp for rp in processed_fp_db if rp['cluster_no'] == 2]\n",
    "cluster3_rps = [rp for rp in processed_fp_db if rp['cluster_no'] == 3]\n",
    "cluster4_rps = [rp for rp in processed_fp_db if rp['cluster_no'] == 4]\n",
    "cluster5_rps = [rp for rp in processed_fp_db if rp['cluster_no'] == 5]\n",
    "\n",
    "r0, b0, cluster0_hashvals = get_hash_values(cluster0_rps)\n",
    "r1, b1, cluster1_hashvals = get_hash_values(cluster1_rps)\n",
    "r2, b2, cluster2_hashvals = get_hash_values(cluster2_rps)\n",
    "r3, b3, cluster3_hashvals = get_hash_values(cluster3_rps)\n",
    "r4, b4, cluster4_hashvals = get_hash_values(cluster4_rps)\n",
    "r5, b5, cluster5_hashvals = get_hash_values(cluster5_rps)"
   ]
  },
  {
   "cell_type": "code",
   "execution_count": 42,
   "id": "f6398ddd",
   "metadata": {},
   "outputs": [],
   "source": [
    "# Save details of each hash function into a dictionary\n",
    "clustered_rps = [cluster0_rps, cluster1_rps, cluster2_rps, cluster3_rps, cluster4_rps, cluster5_rps]\n",
    "clustered_rps = enumerate(clustered_rps)\n",
    "hash_dict = {}\n",
    "\n",
    "for index, cluster in clustered_rps:\n",
    "    r, b, hash_vals = get_hash_values(cluster)\n",
    "    hash_dict[index] = {'r': r, 'b': b, 'hashs': hash_vals}"
   ]
  },
  {
   "cell_type": "code",
   "execution_count": 43,
   "id": "206a4ed5",
   "metadata": {},
   "outputs": [],
   "source": [
    "# Function to calculate Euclidean distance\n",
    "def get_ed(actual_rp, candidate_rp):\n",
    "    return math.dist(actual_rp, candidate_rp)\n",
    "\n",
    "# Exploit WKNN algorithm to choose first K RPs\n",
    "# Here, let k = 3, weight = 1 / get_ed(actual_rp, candidate_rp)\n",
    "# candidate_rps should be given in as a key which is the key in rp_dict which maps back to the\n",
    "# actual coordinates \n",
    "def wknn(actual_rp, candidate_rps, k = 3):\n",
    "    \n",
    "    distances = []\n",
    "    \n",
    "    # For every candidate point,\n",
    "    for index in candidate_rps:\n",
    "        \n",
    "        # Calculate the distance from each candidate point\n",
    "        coords = rp_dict[index]\n",
    "        dist = get_ed(rp_dict[actual_rp], coords)\n",
    "        \n",
    "        if dist == 0:\n",
    "            # Set an arbitrary large enough number\n",
    "            weight = 1e7\n",
    "        else:\n",
    "            weight = 1 / dist\n",
    "            \n",
    "        distances.append((index, coords, weight, dist))\n",
    "        \n",
    "    # Sort the array based on dist\n",
    "    sorted_distances = sorted(distances, key = lambda tup: tup[3])\n",
    "            \n",
    "    # Exploit WKNN to get positioning\n",
    "    # Get top candidates\n",
    "    top_k_candidates = sorted_distances[:k]\n",
    "    \n",
    "    # For checking purposes\n",
    "    # for index, _ , _ in top_k_candidates:\n",
    "    #    print(rp_dict[index])\n",
    "    \n",
    "    # Get predicted positioning using best candidates\n",
    "    # Get coordinates for all candidate positions\n",
    "    candidate_pos = []\n",
    "    weights = []\n",
    "    \n",
    "    for _, candidate, weight, _ in top_k_candidates:\n",
    "        candidate_pos.append(candidate)\n",
    "        weights.append(weight)\n",
    "    \n",
    "    # Take the weighted average of top k candidate positions to predict location\n",
    "    predicted_position = np.average(candidate_pos, weights = weights, axis = 0)\n",
    "    \n",
    "    return predicted_position"
   ]
  },
  {
   "cell_type": "code",
   "execution_count": 46,
   "id": "e36b0bf4",
   "metadata": {},
   "outputs": [],
   "source": [
    "# This function takes in a fingerprint from an unknown location and tries to predict\n",
    "# the location\n",
    "from sklearn.metrics import accuracy_score\n",
    "from sklearn.metrics import confusion_matrix\n",
    "import math\n",
    "\n",
    "def get_closesthash(y, predicted_cluster):\n",
    "    \n",
    "    # For each of the hash value in this cluster,\n",
    "    r, b, hash_vals = hash_dict[predicted_cluster]['r'], hash_dict[predicted_cluster]['b'], hash_dict[predicted_cluster]['hashs']\n",
    "    actual_coords = rp_dict[y]\n",
    "    \n",
    "    min_avgdisterror = math.inf\n",
    "    min_hashval = None\n",
    "    \n",
    "    for hash_val in hash_vals.keys():\n",
    "        \n",
    "        # Get all neighbours with that hash value\n",
    "        neighbours = hash_vals[hash_val]\n",
    "        err_sum = 0\n",
    "        \n",
    "        # Find out the average distance error with neighbouring points with this hash value        \n",
    "        for neighbour in neighbours:\n",
    "            \n",
    "            # Calculate errors\n",
    "            neighbour_coords = rp_dict[neighbour]\n",
    "            err = get_ed(actual_coords, neighbour_coords) \n",
    "            err_sum += err\n",
    "            \n",
    "            # Calculate average\n",
    "            err_avg = err_sum / len(neighbours)\n",
    "            \n",
    "            # Update minimum\n",
    "            if err_avg < min_avgdisterror:\n",
    "                min_avgdisterror = err_avg\n",
    "                min_hashval = hash_val\n",
    "                \n",
    "        # Return the cluster with the least error\n",
    "        return min_hashval\n",
    "    \n",
    "# Note: Fingerprint is already in the reduced dimensions form\n",
    "def get_pred(x, y):\n",
    "    \n",
    "    # Step 1: Predict what cluster is this fp from\n",
    "    predicted_cluster = kmeans_model.predict([x])[0]\n",
    "    \n",
    "    # Step 2: Get the hash details for that predicted cluster\n",
    "    r, b, hash_vals = hash_dict[predicted_cluster]['r'], hash_dict[predicted_cluster]['b'], hash_dict[predicted_cluster]['hashs']\n",
    "    \n",
    "    # Step 3: Get the hash value for that unknown fp\n",
    "    if r == 0:\n",
    "        hashed_value = 0.\n",
    "    else:\n",
    "        hashed_value = math.floor((np.dot(alpha_vector, x) + b) / r)\n",
    " \n",
    "    # Step 4: Apply wknn algorithm on the the unknown fp\n",
    "    # if the derived hash value is not present in hashed values,\n",
    "    if hashed_value not in hash_vals.keys():\n",
    "        # Find out the average distance error from each of the other hashed\n",
    "        # value in this cluster\n",
    "        # Then, use wknn on points with this hash value in this cluster\n",
    "        closest_hashval = get_closesthash(y, predicted_cluster)\n",
    "        y_pred = wknn(y, hash_vals[closest_hashval])\n",
    "        \n",
    "    else: \n",
    "        y_pred = wknn(y, hash_vals[hashed_value])\n",
    "    \n",
    "    return y_pred"
   ]
  },
  {
   "cell_type": "code",
   "execution_count": 47,
   "id": "c0540afa",
   "metadata": {},
   "outputs": [],
   "source": [
    "# Iterate through the y_test dataset and get a prediction for each of the coordinate\n",
    "y_pred = []\n",
    "\n",
    "for i in range(len(y_test)):\n",
    "    \n",
    "    cur_test_sample = X_test[i]\n",
    "    cur_test_label = y_test[i]\n",
    "    pred = get_pred(cur_test_sample, cur_test_label)\n",
    "    y_pred.append(pred)"
   ]
  },
  {
   "cell_type": "code",
   "execution_count": 52,
   "id": "e6170f68",
   "metadata": {},
   "outputs": [
    {
     "name": "stdout",
     "output_type": "stream",
     "text": [
      "RMSE: 3.038405157791285e-09\n"
     ]
    }
   ],
   "source": [
    "def get_disterr(actual, predicted):\n",
    "\n",
    "    x_error = (actual[0] - predicted[0])**2\n",
    "    y_error = (actual[1] - predicted[1])**2\n",
    "\n",
    "    return x_error + y_error\n",
    "\n",
    "def get_errcdf(errors):\n",
    "    # Sort the array\n",
    "    sorted_data = np.sort(errors)\n",
    "\n",
    "    # Calculate cumulative probabilities\n",
    "    n = len(sorted_data)\n",
    "    cumulative_probs = np.arange(1, n + 1) / n\n",
    "\n",
    "    return (sorted_data, cumulative_probs)\n",
    "    \n",
    "err_sum = 0\n",
    "dist_errors = []\n",
    "\n",
    "for i in range(len(y_pred)):\n",
    "    \n",
    "    actual_coords = rp_dict[y_test[i]]\n",
    "    err = get_disterr(actual_coords, y_pred[i])\n",
    "    err_sum += err\n",
    "    dist_errors.append(np.sqrt(err))\n",
    "\n",
    "sorted_errors, cdf_vals = get_errcdf(dist_errors)\n",
    "\n",
    "print(f'RMSE: {np.sqrt((err_sum/len(y_pred)))}')"
   ]
  },
  {
   "cell_type": "code",
   "execution_count": 53,
   "id": "7dbe3790",
   "metadata": {},
   "outputs": [
    {
     "data": {
      "image/png": "[encoded data removed]",
      "text/plain": [
       "<Figure size 1440x720 with 1 Axes>"
      ]
     },
     "metadata": {
      "needs_background": "light"
     },
     "output_type": "display_data"
    }
   ],
   "source": [
    "import matplotlib.pyplot as plt\n",
    "\n",
    "plt.rcParams['figure.figsize'] = [20, 10]\n",
    "\n",
    "plt.plot(sorted_errors, cdf_vals, marker='o')\n",
    "plt.xlabel('Distance Error(m)')\n",
    "plt.ylabel('Cumulative Probability')\n",
    "plt.title('Cumulative Probability Function')\n",
    "plt.grid(True)\n",
    "plt.show()"
   ]
  },
  {
   "cell_type": "code",
   "execution_count": null,
   "id": "70b85e90",
   "metadata": {},
   "outputs": [],
   "source": []
  }
 ],
 "metadata": {
  "kernelspec": {
   "display_name": "Python 3 (ipykernel)",
   "language": "python",
   "name": "python3"
  },
  "language_info": {
   "codemirror_mode": {
    "name": "ipython",
    "version": 3
   },
   "file_extension": ".py",
   "mimetype": "text/x-python",
   "name": "python",
   "nbconvert_exporter": "python",
   "pygments_lexer": "ipython3",
   "version": "3.8.10"
  }
 },
 "nbformat": 4,
 "nbformat_minor": 5
}
