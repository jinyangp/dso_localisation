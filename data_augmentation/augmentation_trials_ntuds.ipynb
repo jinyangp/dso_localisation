{
 "cells": [
  {
   "cell_type": "markdown",
   "id": "5dea9892",
   "metadata": {},
   "source": [
    "# Graph Signal Processing Data Augmentation"
   ]
  },
  {
   "cell_type": "code",
   "execution_count": 1,
   "id": "851323fc",
   "metadata": {},
   "outputs": [
    {
     "name": "stdout",
     "output_type": "stream",
     "text": [
      "PhysicalDevice(name='/physical_device:GPU:0', device_type='GPU')\n",
      "2.9.1\n"
     ]
    }
   ],
   "source": [
    "# Configure amd test GPU\n",
    "import tensorflow as tf\n",
    "from tensorflow.python.client import device_lib\n",
    "\n",
    "# Prevent automatic GPU memory pre-allocation\n",
    "gpus = tf.config.experimental.list_physical_devices('GPU')\n",
    "for gpu in gpus:\n",
    "    print(gpu)\n",
    "    tf.config.experimental.set_memory_growth(gpu, True)\n",
    "\n",
    "print(tf.__version__)\n",
    "# print(device_lib.list_local_devices())"
   ]
  },
  {
   "cell_type": "markdown",
   "id": "4d6a840d",
   "metadata": {},
   "source": [
    "# Step 1: Read in dataset"
   ]
  },
  {
   "cell_type": "markdown",
   "id": "1fa49ddd",
   "metadata": {},
   "source": [
    "## Read in dataset - Coordinates System"
   ]
  },
  {
   "cell_type": "code",
   "execution_count": 4,
   "id": "96c8ba90",
   "metadata": {},
   "outputs": [],
   "source": [
    "import pandas as pd\n",
    "import numpy as np\n",
    "import matplotlib.pyplot as plt\n",
    "import os"
   ]
  },
  {
   "cell_type": "code",
   "execution_count": 6,
   "id": "375ac771",
   "metadata": {},
   "outputs": [
    {
     "name": "stdout",
     "output_type": "stream",
     "text": [
      "/home/jovyan/committed_git/data_augmentation\n",
      "/home/jovyan/committed_git/datasets/ntu_dataset\n"
     ]
    }
   ],
   "source": [
    "print(os.getcwd())\n",
    "os.chdir('../datasets/ntu_dataset')\n",
    "print(os.getcwd())"
   ]
  },
  {
   "cell_type": "code",
   "execution_count": 37,
   "id": "291cf00c",
   "metadata": {},
   "outputs": [
    {
     "name": "stdout",
     "output_type": "stream",
     "text": [
      "(277, 2)\n"
     ]
    }
   ],
   "source": [
    "rp_np = np.loadtxt('label_cor.txt')\n",
    "rp_np = np.unique(rp_np, axis = 0)\n",
    "\n",
    "print(rp_np.shape)"
   ]
  },
  {
   "cell_type": "markdown",
   "id": "0bc6e9de",
   "metadata": {},
   "source": [
    "## Convert to x,y system"
   ]
  },
  {
   "cell_type": "code",
   "execution_count": 94,
   "id": "f8a551b0",
   "metadata": {},
   "outputs": [],
   "source": [
    "import math\n",
    "\n",
    "def get_xycoords(origin_lat, origin_lon, rp_array):\n",
    "    \n",
    "    xy_coords = np.zeros((277,2), dtype = np.float64)\n",
    "    cur_index = 0\n",
    "    \n",
    "    for rp in rp_array:\n",
    "        \n",
    "        lat, lon = rp[0], rp[1]\n",
    "        # *1000 to convert from km to m\n",
    "        dx = ((origin_lon - lon)*40000*math.cos((origin_lat+lat)*math.pi/360)/360)*1000 \n",
    "        dy = ((origin_lat - lat)*40000/360)*1000    \n",
    "        xy_coords[cur_index][0] = dx\n",
    "        xy_coords[cur_index][1] = dy\n",
    "        \n",
    "        cur_index += 1\n",
    "        \n",
    "    return xy_coords"
   ]
  },
  {
   "cell_type": "code",
   "execution_count": 95,
   "id": "42e6c18b",
   "metadata": {},
   "outputs": [
    {
     "name": "stdout",
     "output_type": "stream",
     "text": [
      "(277, 4)\n"
     ]
    }
   ],
   "source": [
    "# Selecting rp with rp_index = 266 as the origin point (last point), calculate x,y coordinates of all other points from\n",
    "# that origin\n",
    "origin_lat, origin_lon = rp_np[266][0], rp_np[266][1]\n",
    "xy_coords = get_xycoords(origin_lat, origin_lon, rp_np)\n",
    "\n",
    "# Combine the lat, lon and x,y numpy arrays\n",
    "rp_coords = np.concatenate((rp_np, xy_coords), axis = 1)\n",
    "print(rp_coords.shape)"
   ]
  },
  {
   "cell_type": "code",
   "execution_count": 96,
   "id": "70bfd432",
   "metadata": {},
   "outputs": [
    {
     "name": "stdout",
     "output_type": "stream",
     "text": [
      "No. of total reference points: 277\n"
     ]
    }
   ],
   "source": [
    "rp_indexes = [i for i in range(len(rp_coords))]\n",
    "rp_lat = rp_coords[:,0]\n",
    "rp_long = rp_coords[:,1]\n",
    "rp_x = rp_coords[:,2]\n",
    "rp_y = rp_coords[:,3]\n",
    "\n",
    "rp_data = {'rp_index': rp_indexes, 'rp_lat': rp_lat, 'rp_long': rp_long, 'rp_x': rp_x, 'rp_y': rp_y}\n",
    "rp_df = pd.DataFrame(data = rp_data)\n",
    "\n",
    "print(f'No. of total reference points: {len(rp_indexes)}')"
   ]
  },
  {
   "cell_type": "code",
   "execution_count": 97,
   "id": "6fc9585e",
   "metadata": {},
   "outputs": [
    {
     "name": "stdout",
     "output_type": "stream",
     "text": [
      "No. of repeated samples: 1\n"
     ]
    }
   ],
   "source": [
    "rp0_df = rp_df[(rp_df['rp_lat'] == 1.35487300000000) & (rp_df['rp_long'] == 103.688911000000)]\n",
    "print(f'No. of repeated samples: {len(rp0_df)}')"
   ]
  },
  {
   "cell_type": "code",
   "execution_count": 98,
   "id": "b7fbc650",
   "metadata": {
    "collapsed": true,
    "jupyter": {
     "outputs_hidden": true
    }
   },
   "outputs": [
    {
     "data": {
      "text/html": [
       "<div>\n",
       "<style scoped>\n",
       "    .dataframe tbody tr th:only-of-type {\n",
       "        vertical-align: middle;\n",
       "    }\n",
       "\n",
       "    .dataframe tbody tr th {\n",
       "        vertical-align: top;\n",
       "    }\n",
       "\n",
       "    .dataframe thead th {\n",
       "        text-align: right;\n",
       "    }\n",
       "</style>\n",
       "<table border=\"1\" class=\"dataframe\">\n",
       "  <thead>\n",
       "    <tr style=\"text-align: right;\">\n",
       "      <th></th>\n",
       "      <th>rp_index</th>\n",
       "      <th>rp_lat</th>\n",
       "      <th>rp_long</th>\n",
       "      <th>rp_x</th>\n",
       "      <th>rp_y</th>\n",
       "    </tr>\n",
       "  </thead>\n",
       "  <tbody>\n",
       "    <tr>\n",
       "      <th>0</th>\n",
       "      <td>0</td>\n",
       "      <td>1.349733</td>\n",
       "      <td>103.685176</td>\n",
       "      <td>110.635844</td>\n",
       "      <td>571.111111</td>\n",
       "    </tr>\n",
       "    <tr>\n",
       "      <th>1</th>\n",
       "      <td>1</td>\n",
       "      <td>1.349733</td>\n",
       "      <td>103.685425</td>\n",
       "      <td>82.976883</td>\n",
       "      <td>571.111111</td>\n",
       "    </tr>\n",
       "    <tr>\n",
       "      <th>2</th>\n",
       "      <td>2</td>\n",
       "      <td>1.349733</td>\n",
       "      <td>103.685674</td>\n",
       "      <td>55.317922</td>\n",
       "      <td>571.111111</td>\n",
       "    </tr>\n",
       "    <tr>\n",
       "      <th>3</th>\n",
       "      <td>3</td>\n",
       "      <td>1.349733</td>\n",
       "      <td>103.685923</td>\n",
       "      <td>27.658961</td>\n",
       "      <td>571.111111</td>\n",
       "    </tr>\n",
       "    <tr>\n",
       "      <th>4</th>\n",
       "      <td>4</td>\n",
       "      <td>1.349733</td>\n",
       "      <td>103.686172</td>\n",
       "      <td>0.000000</td>\n",
       "      <td>571.111111</td>\n",
       "    </tr>\n",
       "    <tr>\n",
       "      <th>5</th>\n",
       "      <td>5</td>\n",
       "      <td>1.349733</td>\n",
       "      <td>103.686421</td>\n",
       "      <td>-27.658961</td>\n",
       "      <td>571.111111</td>\n",
       "    </tr>\n",
       "    <tr>\n",
       "      <th>6</th>\n",
       "      <td>6</td>\n",
       "      <td>1.349733</td>\n",
       "      <td>103.686919</td>\n",
       "      <td>-82.976883</td>\n",
       "      <td>571.111111</td>\n",
       "    </tr>\n",
       "    <tr>\n",
       "      <th>7</th>\n",
       "      <td>7</td>\n",
       "      <td>1.349733</td>\n",
       "      <td>103.687168</td>\n",
       "      <td>-110.635844</td>\n",
       "      <td>571.111111</td>\n",
       "    </tr>\n",
       "    <tr>\n",
       "      <th>8</th>\n",
       "      <td>8</td>\n",
       "      <td>1.349733</td>\n",
       "      <td>103.687417</td>\n",
       "      <td>-138.294805</td>\n",
       "      <td>571.111111</td>\n",
       "    </tr>\n",
       "    <tr>\n",
       "      <th>9</th>\n",
       "      <td>9</td>\n",
       "      <td>1.349733</td>\n",
       "      <td>103.687666</td>\n",
       "      <td>-165.953766</td>\n",
       "      <td>571.111111</td>\n",
       "    </tr>\n",
       "    <tr>\n",
       "      <th>10</th>\n",
       "      <td>10</td>\n",
       "      <td>1.349733</td>\n",
       "      <td>103.688164</td>\n",
       "      <td>-221.271688</td>\n",
       "      <td>571.111111</td>\n",
       "    </tr>\n",
       "    <tr>\n",
       "      <th>11</th>\n",
       "      <td>11</td>\n",
       "      <td>1.349733</td>\n",
       "      <td>103.688413</td>\n",
       "      <td>-248.930649</td>\n",
       "      <td>571.111111</td>\n",
       "    </tr>\n",
       "    <tr>\n",
       "      <th>12</th>\n",
       "      <td>12</td>\n",
       "      <td>1.349733</td>\n",
       "      <td>103.688662</td>\n",
       "      <td>-276.589610</td>\n",
       "      <td>571.111111</td>\n",
       "    </tr>\n",
       "    <tr>\n",
       "      <th>13</th>\n",
       "      <td>13</td>\n",
       "      <td>1.349733</td>\n",
       "      <td>103.688911</td>\n",
       "      <td>-304.248571</td>\n",
       "      <td>571.111111</td>\n",
       "    </tr>\n",
       "    <tr>\n",
       "      <th>14</th>\n",
       "      <td>14</td>\n",
       "      <td>1.349990</td>\n",
       "      <td>103.685176</td>\n",
       "      <td>110.635838</td>\n",
       "      <td>542.555556</td>\n",
       "    </tr>\n",
       "    <tr>\n",
       "      <th>15</th>\n",
       "      <td>15</td>\n",
       "      <td>1.349990</td>\n",
       "      <td>103.685425</td>\n",
       "      <td>82.976879</td>\n",
       "      <td>542.555556</td>\n",
       "    </tr>\n",
       "    <tr>\n",
       "      <th>16</th>\n",
       "      <td>16</td>\n",
       "      <td>1.349990</td>\n",
       "      <td>103.685674</td>\n",
       "      <td>55.317919</td>\n",
       "      <td>542.555556</td>\n",
       "    </tr>\n",
       "    <tr>\n",
       "      <th>17</th>\n",
       "      <td>17</td>\n",
       "      <td>1.349990</td>\n",
       "      <td>103.685923</td>\n",
       "      <td>27.658960</td>\n",
       "      <td>542.555556</td>\n",
       "    </tr>\n",
       "    <tr>\n",
       "      <th>18</th>\n",
       "      <td>18</td>\n",
       "      <td>1.349990</td>\n",
       "      <td>103.686172</td>\n",
       "      <td>0.000000</td>\n",
       "      <td>542.555556</td>\n",
       "    </tr>\n",
       "    <tr>\n",
       "      <th>19</th>\n",
       "      <td>19</td>\n",
       "      <td>1.349990</td>\n",
       "      <td>103.686421</td>\n",
       "      <td>-27.658960</td>\n",
       "      <td>542.555556</td>\n",
       "    </tr>\n",
       "    <tr>\n",
       "      <th>20</th>\n",
       "      <td>20</td>\n",
       "      <td>1.349990</td>\n",
       "      <td>103.686670</td>\n",
       "      <td>-55.317919</td>\n",
       "      <td>542.555556</td>\n",
       "    </tr>\n",
       "    <tr>\n",
       "      <th>21</th>\n",
       "      <td>21</td>\n",
       "      <td>1.349990</td>\n",
       "      <td>103.686919</td>\n",
       "      <td>-82.976879</td>\n",
       "      <td>542.555556</td>\n",
       "    </tr>\n",
       "    <tr>\n",
       "      <th>22</th>\n",
       "      <td>22</td>\n",
       "      <td>1.349990</td>\n",
       "      <td>103.687168</td>\n",
       "      <td>-110.635838</td>\n",
       "      <td>542.555556</td>\n",
       "    </tr>\n",
       "    <tr>\n",
       "      <th>23</th>\n",
       "      <td>23</td>\n",
       "      <td>1.349990</td>\n",
       "      <td>103.687417</td>\n",
       "      <td>-138.294798</td>\n",
       "      <td>542.555556</td>\n",
       "    </tr>\n",
       "    <tr>\n",
       "      <th>24</th>\n",
       "      <td>24</td>\n",
       "      <td>1.349990</td>\n",
       "      <td>103.687666</td>\n",
       "      <td>-165.953757</td>\n",
       "      <td>542.555556</td>\n",
       "    </tr>\n",
       "    <tr>\n",
       "      <th>25</th>\n",
       "      <td>25</td>\n",
       "      <td>1.349990</td>\n",
       "      <td>103.687915</td>\n",
       "      <td>-193.612717</td>\n",
       "      <td>542.555556</td>\n",
       "    </tr>\n",
       "    <tr>\n",
       "      <th>26</th>\n",
       "      <td>26</td>\n",
       "      <td>1.349990</td>\n",
       "      <td>103.688164</td>\n",
       "      <td>-221.271676</td>\n",
       "      <td>542.555556</td>\n",
       "    </tr>\n",
       "    <tr>\n",
       "      <th>27</th>\n",
       "      <td>27</td>\n",
       "      <td>1.349990</td>\n",
       "      <td>103.688413</td>\n",
       "      <td>-248.930636</td>\n",
       "      <td>542.555556</td>\n",
       "    </tr>\n",
       "    <tr>\n",
       "      <th>28</th>\n",
       "      <td>28</td>\n",
       "      <td>1.349990</td>\n",
       "      <td>103.688662</td>\n",
       "      <td>-276.589595</td>\n",
       "      <td>542.555556</td>\n",
       "    </tr>\n",
       "    <tr>\n",
       "      <th>29</th>\n",
       "      <td>29</td>\n",
       "      <td>1.349990</td>\n",
       "      <td>103.688911</td>\n",
       "      <td>-304.248555</td>\n",
       "      <td>542.555556</td>\n",
       "    </tr>\n",
       "  </tbody>\n",
       "</table>\n",
       "</div>"
      ],
      "text/plain": [
       "    rp_index    rp_lat     rp_long        rp_x        rp_y\n",
       "0          0  1.349733  103.685176  110.635844  571.111111\n",
       "1          1  1.349733  103.685425   82.976883  571.111111\n",
       "2          2  1.349733  103.685674   55.317922  571.111111\n",
       "3          3  1.349733  103.685923   27.658961  571.111111\n",
       "4          4  1.349733  103.686172    0.000000  571.111111\n",
       "5          5  1.349733  103.686421  -27.658961  571.111111\n",
       "6          6  1.349733  103.686919  -82.976883  571.111111\n",
       "7          7  1.349733  103.687168 -110.635844  571.111111\n",
       "8          8  1.349733  103.687417 -138.294805  571.111111\n",
       "9          9  1.349733  103.687666 -165.953766  571.111111\n",
       "10        10  1.349733  103.688164 -221.271688  571.111111\n",
       "11        11  1.349733  103.688413 -248.930649  571.111111\n",
       "12        12  1.349733  103.688662 -276.589610  571.111111\n",
       "13        13  1.349733  103.688911 -304.248571  571.111111\n",
       "14        14  1.349990  103.685176  110.635838  542.555556\n",
       "15        15  1.349990  103.685425   82.976879  542.555556\n",
       "16        16  1.349990  103.685674   55.317919  542.555556\n",
       "17        17  1.349990  103.685923   27.658960  542.555556\n",
       "18        18  1.349990  103.686172    0.000000  542.555556\n",
       "19        19  1.349990  103.686421  -27.658960  542.555556\n",
       "20        20  1.349990  103.686670  -55.317919  542.555556\n",
       "21        21  1.349990  103.686919  -82.976879  542.555556\n",
       "22        22  1.349990  103.687168 -110.635838  542.555556\n",
       "23        23  1.349990  103.687417 -138.294798  542.555556\n",
       "24        24  1.349990  103.687666 -165.953757  542.555556\n",
       "25        25  1.349990  103.687915 -193.612717  542.555556\n",
       "26        26  1.349990  103.688164 -221.271676  542.555556\n",
       "27        27  1.349990  103.688413 -248.930636  542.555556\n",
       "28        28  1.349990  103.688662 -276.589595  542.555556\n",
       "29        29  1.349990  103.688911 -304.248555  542.555556"
      ]
     },
     "execution_count": 98,
     "metadata": {},
     "output_type": "execute_result"
    }
   ],
   "source": [
    "rp_df.head(30)"
   ]
  },
  {
   "cell_type": "code",
   "execution_count": 105,
   "id": "381a9d04",
   "metadata": {},
   "outputs": [
    {
     "data": {
      "image/png": "[encoded data removed]",
      "text/plain": [
       "<Figure size 1440x720 with 2 Axes>"
      ]
     },
     "metadata": {
      "needs_background": "light"
     },
     "output_type": "display_data"
    }
   ],
   "source": [
    "plt.rcParams['figure.figsize'] = [20, 10]\n",
    "\n",
    "xs, ys = rp_df['rp_x'], rp_df['rp_y']\n",
    "fig, ax = plt.subplots(1, 2)\n",
    "\n",
    "ax[0].scatter(xs, ys)\n",
    "ax[0].set_xlabel('X [m]')\n",
    "ax[0].set_ylabel('Y [m]')\n",
    "ax[0].grid()\n",
    "\n",
    "ax[1].plot(xs, ys)\n",
    "ax[1].set_xlabel('X [m]')\n",
    "ax[1].set_ylabel('Y [m]')\n",
    "ax[1].grid()"
   ]
  },
  {
   "cell_type": "code",
   "execution_count": null,
   "id": "0c310e4c",
   "metadata": {},
   "outputs": [],
   "source": []
  },
  {
   "cell_type": "markdown",
   "id": "8e612f96",
   "metadata": {},
   "source": [
    "## Read in dataset - Signal Measurements Fingerprints"
   ]
  },
  {
   "cell_type": "code",
   "execution_count": 119,
   "id": "38144370",
   "metadata": {},
   "outputs": [
    {
     "name": "stdout",
     "output_type": "stream",
     "text": [
      "(277, 100, 14)\n"
     ]
    }
   ],
   "source": [
    "# Collect radio frequency measurements for each of the reference point and reformat it as 2D array\n",
    "# Array structure:[[RSSI-1, TDoA-1], [RSSI-2, TDoA-2], ... , [RSSI-N,TDoA-N]] where N is the number of\n",
    "# repeated samples taken at each reference point\n",
    "\n",
    "# Read in each of the base station's data first\n",
    "bs_137410 = np.loadtxt('cor137410.txt')\n",
    "bs_143850 = np.loadtxt('cor143850.txt')\n",
    "bs_144680 = np.loadtxt('cor144680.txt')\n",
    "bs_734777 = np.loadtxt('cor734777.txt')\n",
    "bs_734817 = np.loadtxt('cor734817.txt')\n",
    "bs_748823 = np.loadtxt('cor748823.txt')\n",
    "bs_749197 = np.loadtxt('cor749197.txt')\n",
    "\n",
    "basestations = [bs_137410, bs_143850, bs_144680, bs_734777, bs_734817, bs_748823, bs_749197]\n",
    "\n",
    "# Constants\n",
    "num_rps = 277\n",
    "num_samples = 100\n",
    "num_bs = 7\n",
    "num_featuresperbs = 2\n",
    "\n",
    "# (277,100,14)\n",
    "fp_array = np.zeros((277,100,14), dtype = np.float64)\n",
    "\n",
    "for i in range(num_rps):\n",
    "    \n",
    "    cur_rp_measurements = []\n",
    "    \n",
    "    for j in range(num_bs):\n",
    "        \n",
    "        cur_bs = basestations[j]\n",
    "        cur_rp_bs_measurements = cur_bs[i::num_rps]       \n",
    "        \n",
    "        rssi_samples, tdoa_samples = cur_rp_bs_measurements[:,0], cur_rp_bs_measurements[:,1]\n",
    "        cur_rp_measurements.append(rssi_samples)\n",
    "        cur_rp_measurements.append(tdoa_samples)\n",
    "        \n",
    "    cur_rp_measurements = np.array(cur_rp_measurements)\n",
    "    cur_rp_measurements = cur_rp_measurements.T\n",
    "\n",
    "    fp_array[i] = cur_rp_measurements\n",
    "\n",
    "print(fp_array.shape)"
   ]
  },
  {
   "cell_type": "code",
   "execution_count": 120,
   "id": "aacf06c3",
   "metadata": {},
   "outputs": [
    {
     "name": "stdout",
     "output_type": "stream",
     "text": [
      "(14, 100, 277)\n"
     ]
    }
   ],
   "source": [
    "print(fp_array.T.shape)"
   ]
  },
  {
   "cell_type": "code",
   "execution_count": null,
   "id": "5333d039",
   "metadata": {},
   "outputs": [],
   "source": []
  },
  {
   "cell_type": "markdown",
   "id": "120a670b",
   "metadata": {},
   "source": [
    "# Step 2: Generate virtual RPs"
   ]
  },
  {
   "cell_type": "code",
   "execution_count": null,
   "id": "f9e2177f",
   "metadata": {},
   "outputs": [],
   "source": []
  },
  {
   "cell_type": "markdown",
   "id": "8c204f59",
   "metadata": {},
   "source": [
    "# Step 3: Combine real + virtual RP and make a undirectional, weighted, fully connected graph"
   ]
  },
  {
   "cell_type": "code",
   "execution_count": null,
   "id": "62db9fc3",
   "metadata": {},
   "outputs": [],
   "source": []
  },
  {
   "cell_type": "markdown",
   "id": "2688ffa5",
   "metadata": {},
   "source": [
    "# Step 4: Create vector to represent each vertice(rp) in the graph - Node Embedding"
   ]
  },
  {
   "cell_type": "code",
   "execution_count": null,
   "id": "42ea772e",
   "metadata": {},
   "outputs": [],
   "source": []
  },
  {
   "cell_type": "markdown",
   "id": "afa50c48",
   "metadata": {},
   "source": [
    "# Step 5: Find out degree matrix D and adjacency matrix W"
   ]
  },
  {
   "cell_type": "code",
   "execution_count": null,
   "id": "73a76843",
   "metadata": {},
   "outputs": [],
   "source": []
  },
  {
   "cell_type": "markdown",
   "id": "423d1bfe",
   "metadata": {},
   "source": [
    "# Step 6: Get Graph Laplacian Matrix L"
   ]
  },
  {
   "cell_type": "code",
   "execution_count": null,
   "id": "2565935d",
   "metadata": {},
   "outputs": [],
   "source": []
  },
  {
   "cell_type": "markdown",
   "id": "cbe82715",
   "metadata": {},
   "source": [
    "# Step 7: Solve spatial smoothness problem to find values for virtual RPs"
   ]
  },
  {
   "cell_type": "code",
   "execution_count": null,
   "id": "55182895",
   "metadata": {},
   "outputs": [],
   "source": []
  }
 ],
 "metadata": {
  "kernelspec": {
   "display_name": "Python 3 (ipykernel)",
   "language": "python",
   "name": "python3"
  },
  "language_info": {
   "codemirror_mode": {
    "name": "ipython",
    "version": 3
   },
   "file_extension": ".py",
   "mimetype": "text/x-python",
   "name": "python",
   "nbconvert_exporter": "python",
   "pygments_lexer": "ipython3",
   "version": "3.8.10"
  }
 },
 "nbformat": 4,
 "nbformat_minor": 5
}
